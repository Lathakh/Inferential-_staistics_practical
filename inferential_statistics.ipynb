{
  "nbformat": 4,
  "nbformat_minor": 0,
  "metadata": {
    "colab": {
      "provenance": []
    },
    "kernelspec": {
      "name": "python3",
      "display_name": "Python 3"
    },
    "language_info": {
      "name": "python"
    }
  },
  "cells": [
    {
      "cell_type": "markdown",
      "source": [
        "**Z-TEST / Z_SCORE**\n",
        "\n",
        "**T-TEST**\n",
        "\n",
        "**CHI-SQAURE TEST**"
      ],
      "metadata": {
        "id": "o0o_HZhcMfu2"
      }
    },
    {
      "cell_type": "markdown",
      "source": [
        "## STEPS TO HYPOTHESIS TEST:\n",
        "\n",
        "H0\n",
        "\n",
        "H1\n",
        "\n",
        "CI - to find critical value\n",
        "\n",
        "ALPHA\n",
        "\n",
        "Z_TEST,T_TEST,CHISQAURE\n",
        "\n",
        "P_VALUE\n",
        "\n",
        "Z_test=(sample mean-popualtion mean)/population std deviation/root n\n",
        "\n",
        "given:\n",
        "1. n>=30 sample size\n",
        "2.population mean\n",
        "3.population  std deviation"
      ],
      "metadata": {
        "id": "5PCnz6x0M8RE"
      }
    },
    {
      "cell_type": "code",
      "source": [
        "import numpy as np\n",
        "import scipy.stats as stats"
      ],
      "metadata": {
        "id": "tRPgxXsvMmNY"
      },
      "execution_count": null,
      "outputs": []
    },
    {
      "cell_type": "code",
      "source": [
        "sample_mean=110\n",
        "population_mean=100\n",
        "population_std=15\n",
        "sample_size_n=50\n",
        "alpha=0.05"
      ],
      "metadata": {
        "id": "pnXV9MwqQgEw"
      },
      "execution_count": null,
      "outputs": []
    },
    {
      "cell_type": "code",
      "source": [
        "CI=1-0.05\n",
        "CI"
      ],
      "metadata": {
        "colab": {
          "base_uri": "https://localhost:8080/"
        },
        "id": "eYLznHW1Rks-",
        "outputId": "565317c7-0ddf-46ae-9e51-d7b176fb9d4b"
      },
      "execution_count": null,
      "outputs": [
        {
          "output_type": "execute_result",
          "data": {
            "text/plain": [
              "0.95"
            ]
          },
          "metadata": {},
          "execution_count": 61
        }
      ]
    },
    {
      "cell_type": "code",
      "source": [
        "z_score=(sample_mean-population_mean)/(population_std)/(np.sqrt(50))"
      ],
      "metadata": {
        "id": "51tPYFJlQ95t"
      },
      "execution_count": null,
      "outputs": []
    },
    {
      "cell_type": "code",
      "source": [
        "z_score\n"
      ],
      "metadata": {
        "colab": {
          "base_uri": "https://localhost:8080/"
        },
        "id": "KA9yF_-sRKPd",
        "outputId": "4c2e283d-cd28-4388-a96b-d09e049791c5"
      },
      "execution_count": null,
      "outputs": [
        {
          "output_type": "execute_result",
          "data": {
            "text/plain": [
              "0.09428090415820632"
            ]
          },
          "metadata": {},
          "execution_count": 63
        }
      ]
    },
    {
      "cell_type": "code",
      "source": [
        "z_critical=stats.norm.ppf(CI)\n",
        "z_critical"
      ],
      "metadata": {
        "colab": {
          "base_uri": "https://localhost:8080/"
        },
        "id": "LJiNwH1cROER",
        "outputId": "0f98b277-e60a-45b0-fef2-98cd3ef4894a"
      },
      "execution_count": null,
      "outputs": [
        {
          "output_type": "execute_result",
          "data": {
            "text/plain": [
              "1.6448536269514722"
            ]
          },
          "metadata": {},
          "execution_count": 64
        }
      ]
    },
    {
      "cell_type": "code",
      "source": [
        "if z_score > z_critical:\n",
        "  print(\" we reject the null hypothesis\")\n",
        "else:\n",
        "  print(\"we fail to reject the null hypothesis/null h0 is true\")\n",
        "\n"
      ],
      "metadata": {
        "colab": {
          "base_uri": "https://localhost:8080/"
        },
        "id": "NzYW-CKIRfmC",
        "outputId": "5489e632-d4f4-4e1f-f846-2b604a9673db"
      },
      "execution_count": null,
      "outputs": [
        {
          "output_type": "stream",
          "name": "stdout",
          "text": [
            "we fail to reject the null hypothesis/null h0 is true\n"
          ]
        }
      ]
    },
    {
      "cell_type": "markdown",
      "source": [
        "IF z_score  > z_critical - we reject the null hypothesis\n",
        "\n",
        "else\n",
        "\n",
        "IF z_score  < z_critical - we  fail to reject the null hypothesis"
      ],
      "metadata": {
        "id": "rjlTHCYQSJc5"
      }
    },
    {
      "cell_type": "markdown",
      "source": [
        "p>=0.05 we reject the null hypothesis\n",
        "\n",
        "p<=0.05 we fail to reject the null hypothesis"
      ],
      "metadata": {
        "id": "UxVcyMk5S9dZ"
      }
    },
    {
      "cell_type": "code",
      "source": [
        "p=1-0.99999966\n",
        "p"
      ],
      "metadata": {
        "colab": {
          "base_uri": "https://localhost:8080/"
        },
        "id": "ojR6zjImTAWu",
        "outputId": "089f07d5-3295-4f3b-8ad0-1f5583eb9c0f"
      },
      "execution_count": null,
      "outputs": [
        {
          "output_type": "execute_result",
          "data": {
            "text/plain": [
              "3.400000000430836e-07"
            ]
          },
          "metadata": {},
          "execution_count": 66
        }
      ]
    },
    {
      "cell_type": "code",
      "source": [
        "if p< alpha:\n",
        "  print(\"we reject the null hypothesis\")\n",
        "\n",
        "else:\n",
        "  print(\"we fails to reject  null hypothesis\")\n"
      ],
      "metadata": {
        "colab": {
          "base_uri": "https://localhost:8080/"
        },
        "id": "fkF4S69LTNHi",
        "outputId": "6a9be958-23d4-4aa8-cf14-39b886666b3f"
      },
      "execution_count": null,
      "outputs": [
        {
          "output_type": "stream",
          "name": "stdout",
          "text": [
            "we reject the null hypothesis\n"
          ]
        }
      ]
    },
    {
      "cell_type": "code",
      "source": [
        "from numpy.random import randn\n",
        "mydata=randn(500)"
      ],
      "metadata": {
        "id": "CWlTQYGiTjGj"
      },
      "execution_count": null,
      "outputs": []
    },
    {
      "cell_type": "code",
      "source": [
        "mydata"
      ],
      "metadata": {
        "colab": {
          "base_uri": "https://localhost:8080/"
        },
        "id": "hBZk_CRYUucD",
        "outputId": "51355032-5862-4d4f-9263-2b35e9242f18"
      },
      "execution_count": null,
      "outputs": [
        {
          "output_type": "execute_result",
          "data": {
            "text/plain": [
              "array([-1.35586650e+00, -8.31000220e-01,  9.77075319e-01,  1.78924366e+00,\n",
              "       -8.54989386e-01, -1.04268660e+00,  3.22925660e-01,  7.28953350e-01,\n",
              "        7.30109164e-01, -1.89748593e-01, -9.27434995e-02,  1.73221345e+00,\n",
              "       -2.09596250e-01, -4.77197793e-01,  4.05364877e-01, -3.80536979e-01,\n",
              "       -7.33965481e-01,  8.00873744e-01, -1.02391538e-01, -1.11057771e+00,\n",
              "        4.99507222e-01,  7.82690531e-01,  1.11431244e+00, -1.96681046e+00,\n",
              "       -2.13934768e+00,  5.94589976e-01, -3.15581001e-01,  2.75443326e-01,\n",
              "       -1.11327145e-01,  6.56104723e-01,  6.16102732e-01, -9.64333503e-01,\n",
              "        4.73834309e-01,  3.51100107e-01, -2.47488294e+00, -5.12528006e-01,\n",
              "        4.64708241e-01,  6.55924997e-01, -5.48482045e-01,  7.22925185e-02,\n",
              "       -1.12406878e+00, -4.16999672e-01,  5.89499051e-01, -3.56775342e-01,\n",
              "        9.60476181e-01,  2.75335086e-01, -5.02719878e-01,  1.11962066e+00,\n",
              "       -1.03271049e+00,  4.68977479e-01, -1.93180713e-01, -1.18355325e+00,\n",
              "       -9.11469713e-01,  8.52945732e-01,  1.40137102e+00,  1.53024962e+00,\n",
              "       -3.47096567e-01, -7.69803408e-01,  2.48237712e+00, -3.24348921e-02,\n",
              "        7.22469368e-01,  9.37780816e-01, -1.49574505e+00, -7.32550890e-01,\n",
              "        1.95422558e+00, -4.40354443e-01, -4.35041884e-01, -2.10716413e+00,\n",
              "       -5.67888404e-01,  4.10127257e-01, -1.05022312e+00, -1.27074130e-01,\n",
              "       -7.59896756e-01, -1.11312657e+00, -3.87851193e-01, -1.40278778e-02,\n",
              "       -4.33453352e-01, -1.36734200e-01,  1.29644801e+00,  6.49421019e-01,\n",
              "       -1.45037897e+00, -1.45912875e+00,  1.58675898e+00,  1.26214340e+00,\n",
              "        1.87157119e+00, -2.99603329e-01,  6.49151507e-01, -8.15392287e-01,\n",
              "       -1.06292919e+00, -7.25784979e-01,  6.69603036e-01,  1.42566888e+00,\n",
              "       -4.67005115e-01, -6.30427947e-02,  4.09383658e-01, -2.46815466e-01,\n",
              "        1.15726094e+00,  3.00116747e-01,  4.12046925e-01, -1.54080111e+00,\n",
              "        1.16763393e+00, -1.09550199e+00,  8.42556407e-01, -3.18918081e-01,\n",
              "       -2.68914574e-01, -2.26015263e-01,  7.48570417e-01,  5.61901869e-01,\n",
              "        6.28588574e-02, -1.21097792e+00,  4.74370618e-02, -1.33559812e+00,\n",
              "        1.64176707e-01, -1.39266864e+00, -9.47169382e-01,  9.03256023e-01,\n",
              "       -1.66211728e-01,  4.74830281e-01,  1.66006088e-01,  1.14189857e+00,\n",
              "       -7.14141143e-01, -1.81529884e-01, -4.80179558e-01,  1.01659725e-01,\n",
              "       -9.80077800e-01,  1.94727872e+00, -9.26100543e-01, -3.55567083e-01,\n",
              "        1.39286966e+00,  9.29656134e-01, -8.48029262e-01, -7.66850812e-01,\n",
              "        2.49567180e+00, -1.57420459e+00, -1.55610408e+00,  5.16223271e-01,\n",
              "        1.43064347e-02,  1.16034752e+00,  1.91606944e+00, -1.38497680e-01,\n",
              "        9.79310383e-01, -1.72083527e+00,  1.81175030e-01, -4.68322464e-01,\n",
              "       -5.22189632e-03, -1.43171914e+00,  1.07672833e+00,  4.31372975e-01,\n",
              "        4.28750890e-01,  3.33010698e-01,  1.01161982e+00, -1.51499199e+00,\n",
              "       -2.50603855e-01,  9.60353395e-01,  6.11120809e-01,  1.93820432e+00,\n",
              "       -1.40283645e+00,  3.53444858e-01, -7.10999367e-02,  1.15006935e+00,\n",
              "       -1.74275367e+00,  1.10518276e+00,  5.25089716e-01, -1.24035282e+00,\n",
              "        4.38092616e-01, -1.00745638e-01, -9.02699693e-01,  2.28644624e-01,\n",
              "       -5.21948985e-01, -8.05618085e-01,  1.54005657e+00, -1.53892694e-01,\n",
              "       -1.02446811e+00, -7.41306183e-01,  2.43024801e-02, -1.11243950e+00,\n",
              "       -4.51183589e-01,  2.02997179e-01,  9.78748196e-01, -1.09718512e+00,\n",
              "       -2.22558706e+00, -1.18772000e-01,  1.89410944e+00,  1.18044353e+00,\n",
              "       -1.84442480e+00, -1.53144846e+00,  5.61687756e-01,  1.45827819e-01,\n",
              "       -4.54645999e-01, -9.29467652e-04,  6.63159258e-01,  6.02128590e-01,\n",
              "        7.39002493e-03, -8.52006724e-02,  2.10910517e-01,  3.45551049e-01,\n",
              "        1.62177433e+00, -1.32748884e-01,  3.61962515e-01,  1.21270492e+00,\n",
              "        6.61549752e-01,  1.22137745e-01,  1.04983514e+00,  1.37113432e+00,\n",
              "        4.93528110e-03,  3.46580599e-01,  1.07677854e+00,  1.04447215e+00,\n",
              "       -7.92764133e-01, -1.81002483e+00,  8.22936320e-01, -8.74356138e-01,\n",
              "        3.74073007e-01, -1.09304079e-01,  1.90288444e+00,  2.29651861e-01,\n",
              "       -5.96299137e-01, -1.08411624e+00,  1.35525421e+00, -4.19092752e-01,\n",
              "       -2.50880129e-01, -2.79636434e+00,  2.37244949e-01, -8.16577635e-02,\n",
              "        5.13558140e-01, -1.02573167e+00,  7.66017923e-01, -2.09775980e-01,\n",
              "       -9.33345046e-01, -1.47402558e+00, -2.26899109e-01, -2.36367163e+00,\n",
              "       -1.05733564e+00, -7.32365110e-01,  2.64661640e+00, -2.00011366e+00,\n",
              "        7.15413681e-02,  1.84451994e+00,  7.95328243e-01,  2.83493455e-01,\n",
              "        9.64844064e-01, -9.34340137e-01,  1.87567142e+00, -4.96893078e-01,\n",
              "       -3.00447040e-02,  2.47503967e-01, -5.99417771e-02, -3.41859178e-01,\n",
              "        1.76396677e-01, -1.13091010e+00,  3.15835686e-01, -1.13475862e+00,\n",
              "        1.53483757e-01,  1.35188516e+00, -3.18205337e-02, -6.06205860e-01,\n",
              "        1.06569019e+00,  2.26764226e-01, -2.39941535e+00,  1.15512208e+00,\n",
              "        3.24304256e-01,  7.51413889e-02, -1.35729336e-01,  4.69007101e-02,\n",
              "       -9.79000979e-01, -1.88375248e+00, -4.91801643e-01,  5.15177338e-04,\n",
              "        5.52012306e-01,  6.62581014e-02,  5.13909243e-01,  1.81713166e+00,\n",
              "       -3.56631274e-01, -1.82975821e-01, -6.00148445e-01, -1.95843517e-01,\n",
              "        7.19951616e-01,  1.32557002e+00,  1.87063145e+00,  1.11933906e+00,\n",
              "       -1.37674231e+00, -7.95975569e-03,  1.95394550e-01, -6.80140925e-01,\n",
              "       -1.10458904e+00,  1.35940130e+00,  6.20019843e-01, -1.64549297e-01,\n",
              "        1.30334021e+00, -5.52663329e-01,  3.07131677e+00,  2.10390347e+00,\n",
              "       -7.40455033e-01, -9.49256526e-01,  1.35361817e+00, -3.27877434e-01,\n",
              "       -5.58456695e-02,  7.66417996e-01, -6.34507325e-01,  8.87247711e-01,\n",
              "        2.70197044e-01, -1.28565646e+00, -1.58137175e+00,  1.88051150e+00,\n",
              "       -9.29047153e-02,  2.01851499e+00,  5.41536525e-01, -7.56048074e-02,\n",
              "        6.93309516e-01,  5.12501077e-01,  2.32002281e+00,  2.56847565e-01,\n",
              "       -5.36261137e-01, -1.77049469e-02, -7.90245320e-01, -1.04663665e+00,\n",
              "        6.21404075e-01,  1.05401918e+00,  2.82127814e-01,  5.29914226e-01,\n",
              "        9.11389230e-02, -7.60642968e-02, -3.75638283e-01,  9.67520456e-01,\n",
              "       -4.97210493e-01, -7.82624352e-01, -6.95269743e-01,  3.01723034e+00,\n",
              "       -1.43383388e+00,  6.77068651e-02, -2.58146993e+00,  3.89892970e-01,\n",
              "       -7.81368193e-01, -1.28777136e+00,  2.90742857e-01,  2.51648005e+00,\n",
              "        1.50785606e+00,  2.63075185e-01, -1.95188251e-01,  9.84361689e-01,\n",
              "        2.02591924e+00,  4.07043438e-01,  3.39376023e-01, -1.36336864e+00,\n",
              "       -1.29061032e+00,  5.73887381e-01,  1.56322937e+00,  5.58006118e-01,\n",
              "       -2.00578990e+00,  7.27062463e-01, -4.18889125e-01,  5.11261161e-01,\n",
              "        1.42024987e+00, -1.53726718e+00, -5.30722671e-01, -1.94822497e+00,\n",
              "        6.15177245e-01, -3.01186912e-01,  5.73856214e-01, -2.05887679e+00,\n",
              "       -7.67729712e-01, -1.74070186e+00, -8.10099962e-04,  1.07521293e+00,\n",
              "        1.33178700e+00, -3.44690428e-01,  2.69541713e-01, -1.52016312e+00,\n",
              "       -2.50421367e-01, -3.84726316e-01, -6.38429562e-01, -2.13970004e-01,\n",
              "        8.02318855e-02,  6.49552247e-01,  7.63827448e-01, -1.28725920e+00,\n",
              "       -5.28963676e-01, -3.17897285e-01,  6.15776036e-01,  4.41372906e-01,\n",
              "       -4.84114532e-01,  2.58419209e-01, -1.28651885e-01,  1.85347714e+00,\n",
              "       -1.09386278e+00,  7.13027188e-01,  1.66195860e+00,  1.69499900e+00,\n",
              "        1.98290657e-01,  4.57058259e-01,  5.96179084e-01,  4.39253976e-01,\n",
              "        4.77806298e-01,  7.46747618e-01, -6.20602694e-01, -4.83047617e-02,\n",
              "       -1.81984457e+00,  1.20602330e+00,  4.73402472e-02,  1.65420905e+00,\n",
              "        5.94914007e-01,  7.15934503e-01, -3.81508715e-01,  5.76429109e-01,\n",
              "        1.11379863e+00, -1.75142276e-01,  1.20528731e+00,  2.57107359e-01,\n",
              "        1.08422844e-02,  6.05436125e-01,  1.70187078e+00,  8.60708632e-01,\n",
              "       -8.97064379e-01, -1.30256610e+00,  3.30361612e-01, -3.52236922e-01,\n",
              "        8.98993627e-01,  1.54351018e-01,  1.98928121e+00,  8.48012040e-01,\n",
              "        8.11264532e-01,  6.65728708e-01, -1.31129298e-01, -2.12274843e-01,\n",
              "       -4.55781821e-01,  1.17128717e+00, -1.51823631e+00,  6.37501078e-01,\n",
              "        1.09383390e+00,  5.25904442e-01,  9.95687911e-03, -1.76101051e+00,\n",
              "       -4.22135061e-01,  1.63197771e-01, -2.56614814e+00,  6.15489031e-01,\n",
              "        3.58886658e-02,  7.56909725e-01,  4.09834709e-01, -1.85086135e+00,\n",
              "        7.07667905e-01, -1.17885847e-01,  5.57150252e-01, -1.14515008e+00,\n",
              "        1.82020706e+00, -1.23980479e-01, -1.60055232e+00,  1.40073256e+00,\n",
              "        2.28640788e-01,  7.47348073e-01,  1.54472334e+00, -2.60012300e+00,\n",
              "        2.81789090e-01,  7.30956601e-01, -1.29535541e+00, -1.43900956e+00,\n",
              "       -3.70706986e-01,  7.37611247e-01, -3.04617498e-01,  2.46692868e-01,\n",
              "        2.14347528e-01,  2.23908815e-01, -1.17993506e+00,  9.71766457e-01,\n",
              "        7.40828598e-01, -3.62444772e-01,  1.13758519e+00,  1.56162943e+00,\n",
              "       -6.18753860e-01, -1.89658508e-01,  4.68888015e-01, -4.67338038e-01,\n",
              "       -2.28046248e-01, -3.36975786e-01, -9.14315539e-01, -8.73200036e-01,\n",
              "        4.80767972e-01,  7.93742678e-01,  1.10447384e+00, -5.11551797e-02,\n",
              "       -1.65143960e+00, -3.30731621e-01, -1.18328177e+00,  6.61974699e-01,\n",
              "        1.79421614e+00,  9.48565855e-01, -1.02018862e+00, -2.21676110e-01,\n",
              "       -2.53950724e-01,  8.53870153e-02,  1.28797771e-01,  4.90782588e-01,\n",
              "        4.86096819e-02, -1.23412531e+00, -1.50433740e+00,  8.97938668e-01,\n",
              "        7.09932669e-01,  1.03141078e+00,  1.80856191e+00,  7.07056780e-01])"
            ]
          },
          "metadata": {},
          "execution_count": 69
        }
      ]
    },
    {
      "cell_type": "code",
      "source": [
        "import seaborn as sns\n"
      ],
      "metadata": {
        "id": "Q5tEBNrdUwP0"
      },
      "execution_count": null,
      "outputs": []
    },
    {
      "cell_type": "code",
      "source": [
        "sns.histplot(mydata)"
      ],
      "metadata": {
        "colab": {
          "base_uri": "https://localhost:8080/",
          "height": 447
        },
        "id": "ILAmzZ0bU45r",
        "outputId": "6237cade-aedb-40e4-b198-6e38c529dd85"
      },
      "execution_count": null,
      "outputs": [
        {
          "output_type": "execute_result",
          "data": {
            "text/plain": [
              "<Axes: ylabel='Count'>"
            ]
          },
          "metadata": {},
          "execution_count": 71
        },
        {
          "output_type": "display_data",
          "data": {
            "text/plain": [
              "<Figure size 640x480 with 1 Axes>"
            ],
            "image/png": "[encoded data removed]"
          },
          "metadata": {}
        }
      ]
    },
    {
      "cell_type": "code",
      "source": [
        "sns.histplot(mydata,kde=True)"
      ],
      "metadata": {
        "colab": {
          "base_uri": "https://localhost:8080/",
          "height": 447
        },
        "id": "e4-1olefU8nB",
        "outputId": "f8d9688c-87fa-459f-b5f2-c44f05ca6cd3"
      },
      "execution_count": null,
      "outputs": [
        {
          "output_type": "execute_result",
          "data": {
            "text/plain": [
              "<Axes: ylabel='Count'>"
            ]
          },
          "metadata": {},
          "execution_count": 72
        },
        {
          "output_type": "display_data",
          "data": {
            "text/plain": [
              "<Figure size 640x480 with 1 Axes>"
            ],
            "image/png": "[encoded data removed]"
          },
          "metadata": {}
        }
      ]
    },
    {
      "cell_type": "code",
      "source": [
        "from scipy import stats\n",
        "stats.normaltest(mydata)"
      ],
      "metadata": {
        "colab": {
          "base_uri": "https://localhost:8080/"
        },
        "id": "XfVnI94IVI_1",
        "outputId": "9db6723b-6b43-46d3-f850-14873a9bb94d"
      },
      "execution_count": null,
      "outputs": [
        {
          "output_type": "execute_result",
          "data": {
            "text/plain": [
              "NormaltestResult(statistic=0.41398984578021264, pvalue=0.8130237777881584)"
            ]
          },
          "metadata": {},
          "execution_count": 73
        }
      ]
    },
    {
      "cell_type": "code",
      "source": [
        "sample_mean_iq=110\n",
        "alpha=0.05\n",
        "CI=0.95\n"
      ],
      "metadata": {
        "id": "1JxlosPGVQIz"
      },
      "execution_count": null,
      "outputs": []
    },
    {
      "cell_type": "code",
      "source": [
        "mean_population=100\n",
        "population_std=15"
      ],
      "metadata": {
        "id": "ILmclGyVVreT"
      },
      "execution_count": null,
      "outputs": []
    },
    {
      "cell_type": "code",
      "source": [
        "data=population_std*randn(50)+sample_mean_iq\n",
        "data"
      ],
      "metadata": {
        "colab": {
          "base_uri": "https://localhost:8080/"
        },
        "id": "-sOmYbBuV6cW",
        "outputId": "92d45400-09ae-45ff-e371-7f6e74c3523b"
      },
      "execution_count": null,
      "outputs": [
        {
          "output_type": "execute_result",
          "data": {
            "text/plain": [
              "array([ 94.30819535, 116.44792921, 112.03028658, 120.64110133,\n",
              "       117.84988439, 105.04625785, 138.86326031, 113.82991198,\n",
              "       100.81351015, 123.09046874, 104.04824176, 133.83871186,\n",
              "       126.5479113 , 104.10436291, 110.65417504, 111.12585974,\n",
              "       127.51587684,  93.21297598, 113.50903451, 115.99839712,\n",
              "       105.29264303, 102.68955171, 107.84709461, 107.38889877,\n",
              "       109.14247586,  99.57011809,  89.20810107,  97.58454822,\n",
              "        92.18719109, 105.46530669, 135.46992808, 106.56484121,\n",
              "        96.08820844, 121.02852542, 111.30780762, 101.75787007,\n",
              "        99.4513592 ,  80.30032428,  95.59619655, 118.997115  ,\n",
              "       133.2335289 ,  96.97716765, 122.98727859, 109.12486526,\n",
              "       104.62032992, 110.30873193, 106.59598836,  77.81882879,\n",
              "       105.92893514, 118.07037567])"
            ]
          },
          "metadata": {},
          "execution_count": 76
        }
      ]
    },
    {
      "cell_type": "code",
      "source": [
        "np.mean(data)"
      ],
      "metadata": {
        "colab": {
          "base_uri": "https://localhost:8080/"
        },
        "id": "U5FdLP1eV8ae",
        "outputId": "3c877903-bab3-4cc9-fa6f-940206504084"
      },
      "execution_count": null,
      "outputs": [
        {
          "output_type": "execute_result",
          "data": {
            "text/plain": [
              "109.04160976273545"
            ]
          },
          "metadata": {},
          "execution_count": 77
        }
      ]
    },
    {
      "cell_type": "code",
      "source": [
        "np.std(data)"
      ],
      "metadata": {
        "colab": {
          "base_uri": "https://localhost:8080/"
        },
        "id": "jibNC3y0WXFr",
        "outputId": "900ebfe9-add6-4e91-9d31-431268b56bf3"
      },
      "execution_count": null,
      "outputs": [
        {
          "output_type": "execute_result",
          "data": {
            "text/plain": [
              "13.103095283431005"
            ]
          },
          "metadata": {},
          "execution_count": 78
        }
      ]
    },
    {
      "cell_type": "code",
      "source": [
        "null_hypothesis=mean_population\n"
      ],
      "metadata": {
        "id": "daumxcpcWaNE"
      },
      "execution_count": null,
      "outputs": []
    },
    {
      "cell_type": "code",
      "source": [
        "from statsmodels.stats.weightstats import ztest\n",
        "ztest(data,value=null_hypothesis,alternative=\"larger\")"
      ],
      "metadata": {
        "colab": {
          "base_uri": "https://localhost:8080/"
        },
        "id": "Ls92c0ycWnTk",
        "outputId": "0e4fd217-1d1e-4c69-9e36-b82227d7873f"
      },
      "execution_count": null,
      "outputs": [
        {
          "output_type": "execute_result",
          "data": {
            "text/plain": [
              "(4.8302532317826135, 6.817975788569146e-07)"
            ]
          },
          "metadata": {},
          "execution_count": 80
        }
      ]
    },
    {
      "cell_type": "code",
      "source": [
        "#z test and p value"
      ],
      "metadata": {
        "id": "qNGYQcIJXEMq"
      },
      "execution_count": null,
      "outputs": []
    },
    {
      "cell_type": "markdown",
      "source": [
        "T_test"
      ],
      "metadata": {
        "id": "aFCKXJ4sXy60"
      }
    },
    {
      "cell_type": "markdown",
      "source": [
        "1. one sample t_test(with respect to one independent sample)\n",
        "\n",
        "2.two sample t_test(with respect to two independent sample)\n",
        "\n",
        "3.t_test (two sample from the smae population on a different time interval )"
      ],
      "metadata": {
        "id": "1ovNjpBjYgMX"
      }
    },
    {
      "cell_type": "markdown",
      "source": [
        "1.when we have limites sample size n<=30\n",
        "\n",
        "2.we dont know population std deviation\n",
        "\n",
        "one sample t_test:\n",
        "\n",
        "hypothesis:\n",
        "\n",
        "sample_mean=pop-mean/true mean\n",
        "\n",
        "one_sample_t_test=(sample mean-popualtion mean)/population std deviation/root n"
      ],
      "metadata": {
        "id": "bxGyIVtZYpJN"
      }
    },
    {
      "cell_type": "markdown",
      "source": [
        "1. one sample t_test(with respect to one independent sample)"
      ],
      "metadata": {
        "id": "Sy_G3mzScp3f"
      }
    },
    {
      "cell_type": "code",
      "source": [
        "my_cricket_score=[22,38,19,15,48,11,10,49,47,38,10,25,46,21,29,36,25,25]"
      ],
      "metadata": {
        "id": "n8z47HQTXxnE"
      },
      "execution_count": null,
      "outputs": []
    },
    {
      "cell_type": "code",
      "source": [
        "np.mean(my_cricket_score) # sample mean"
      ],
      "metadata": {
        "colab": {
          "base_uri": "https://localhost:8080/"
        },
        "id": "SdSb1TnyYkwh",
        "outputId": "7beaaf90-8221-4ebf-bf78-e43664dcb2d4"
      },
      "execution_count": null,
      "outputs": [
        {
          "output_type": "execute_result",
          "data": {
            "text/plain": [
              "28.555555555555557"
            ]
          },
          "metadata": {},
          "execution_count": 9
        }
      ]
    },
    {
      "cell_type": "code",
      "source": [
        "#null_hypothesis-----> population_mean/true mean=smaple_mean should be 28.5   --we need to satify this condition"
      ],
      "metadata": {
        "id": "zGxMRDIEZ9v7"
      },
      "execution_count": null,
      "outputs": []
    },
    {
      "cell_type": "code",
      "source": [
        "import scipy # module give method ttest\n",
        "result=scipy.stats.ttest_1samp(my_cricket_score,15) #15 pop mean\n",
        "result"
      ],
      "metadata": {
        "colab": {
          "base_uri": "https://localhost:8080/"
        },
        "id": "-DzLqC6LaMPp",
        "outputId": "89400048-75ed-4883-eba0-117d43e5f976"
      },
      "execution_count": null,
      "outputs": [
        {
          "output_type": "execute_result",
          "data": {
            "text/plain": [
              "TtestResult(statistic=4.2696232851527025, pvalue=0.0005177588880312322, df=17)"
            ]
          },
          "metadata": {},
          "execution_count": 11
        }
      ]
    },
    {
      "cell_type": "code",
      "source": [
        "p_value=result[1]# p_value"
      ],
      "metadata": {
        "id": "objwxHx6aN57"
      },
      "execution_count": null,
      "outputs": []
    },
    {
      "cell_type": "code",
      "source": [
        "if p_value<0.05:  # 0.05 - significant value\n",
        "  print(\"we reject the null hypothesis\")\n",
        "else:\n",
        "  print(\"we fail to reject the null hypothesis\")"
      ],
      "metadata": {
        "colab": {
          "base_uri": "https://localhost:8080/"
        },
        "id": "bpDVPLnLbHcD",
        "outputId": "fa4e19fb-49e7-4f35-a7db-3f663a8bc252"
      },
      "execution_count": null,
      "outputs": [
        {
          "output_type": "stream",
          "name": "stdout",
          "text": [
            "we reject the null hypothesis\n"
          ]
        }
      ]
    },
    {
      "cell_type": "code",
      "source": [
        "scipy.stats.ttest_1samp(my_cricket_score,26) # 26 -pop mean"
      ],
      "metadata": {
        "colab": {
          "base_uri": "https://localhost:8080/"
        },
        "id": "lzjRE4nubWby",
        "outputId": "858bbbad-00ac-488e-909a-91ef321ec885"
      },
      "execution_count": null,
      "outputs": [
        {
          "output_type": "execute_result",
          "data": {
            "text/plain": [
              "TtestResult(statistic=0.8049289799878051, pvalue=0.43197487442360005, df=17)"
            ]
          },
          "metadata": {},
          "execution_count": 15
        }
      ]
    },
    {
      "cell_type": "code",
      "source": [
        "p_value=scipy.stats.ttest_1samp(my_cricket_score,26)[1]"
      ],
      "metadata": {
        "id": "hLe8s_uMbnm5"
      },
      "execution_count": null,
      "outputs": []
    },
    {
      "cell_type": "code",
      "source": [
        "p_value"
      ],
      "metadata": {
        "colab": {
          "base_uri": "https://localhost:8080/"
        },
        "id": "zbWG-5IreMZN",
        "outputId": "4f61c17a-784f-4021-bdb1-9bdb93770eee"
      },
      "execution_count": null,
      "outputs": [
        {
          "output_type": "execute_result",
          "data": {
            "text/plain": [
              "0.43197487442360005"
            ]
          },
          "metadata": {},
          "execution_count": 17
        }
      ]
    },
    {
      "cell_type": "code",
      "source": [
        "if p_value<0.05:\n",
        "  print(\"we reject the null hypothesis\")\n",
        "else:\n",
        "  print(\"we fail to reject the null hypothesis\")"
      ],
      "metadata": {
        "colab": {
          "base_uri": "https://localhost:8080/"
        },
        "id": "1W7Xfy7Nbpg5",
        "outputId": "0cb5ba46-c2bb-407e-fa38-a6ab2676c42d"
      },
      "execution_count": null,
      "outputs": [
        {
          "output_type": "stream",
          "name": "stdout",
          "text": [
            "we fail to reject the null hypothesis\n"
          ]
        }
      ]
    },
    {
      "cell_type": "markdown",
      "source": [
        "**2.two sample t_test(with respect to two independent sample)**"
      ],
      "metadata": {
        "id": "Ir6T2ADEPNUF"
      }
    },
    {
      "cell_type": "code",
      "source": [
        "#two-sample t test(with respect to two independent sample)\n",
        "my_cricket_score=[22, 38, 29, 45, 48, 41, 40, 49, 47, 38, 20, 45, 46, 50, 21, 44, 29,36, 25, 24]\n",
        "\n",
        "virat_cricket_score=[33, 45, 23, 25, 46, 46, 46, 49, 49, 44, 44, 49, 25, 31, 25, 40, 30,20, 42, 37]"
      ],
      "metadata": {
        "id": "d0IvGBusfJZz"
      },
      "execution_count": null,
      "outputs": []
    },
    {
      "cell_type": "code",
      "source": [
        "import numpy as np\n",
        "frist_sample_mean=np.mean(my_cricket_score)"
      ],
      "metadata": {
        "id": "r3-iF8qsfd8U"
      },
      "execution_count": null,
      "outputs": []
    },
    {
      "cell_type": "code",
      "source": [
        "frist_sample_mean"
      ],
      "metadata": {
        "colab": {
          "base_uri": "https://localhost:8080/"
        },
        "id": "Ec2ZgAi4Pfbq",
        "outputId": "5391635b-9134-4abc-de40-740f3a831f59"
      },
      "execution_count": null,
      "outputs": [
        {
          "output_type": "execute_result",
          "data": {
            "text/plain": [
              "36.85"
            ]
          },
          "metadata": {},
          "execution_count": 21
        }
      ]
    },
    {
      "cell_type": "code",
      "source": [
        "second_sample_mean=np.mean(virat_cricket_score)"
      ],
      "metadata": {
        "id": "GYOE5la9PmiE"
      },
      "execution_count": null,
      "outputs": []
    },
    {
      "cell_type": "code",
      "source": [
        "second_sample_mean"
      ],
      "metadata": {
        "colab": {
          "base_uri": "https://localhost:8080/"
        },
        "id": "BrrwadWhPp67",
        "outputId": "3e696b75-0105-4ecb-a85d-167c00480212"
      },
      "execution_count": null,
      "outputs": [
        {
          "output_type": "execute_result",
          "data": {
            "text/plain": [
              "37.45"
            ]
          },
          "metadata": {},
          "execution_count": 23
        }
      ]
    },
    {
      "cell_type": "markdown",
      "source": [
        "**my_null_hyphthesis=both sample mean will be equal**"
      ],
      "metadata": {
        "id": "pEocWA9IPyUS"
      }
    },
    {
      "cell_type": "code",
      "source": [
        "t_stats,pvalue=scipy.stats.ttest_ind(my_cricket_score,virat_cricket_score)"
      ],
      "metadata": {
        "id": "5IienqstPs9v"
      },
      "execution_count": null,
      "outputs": []
    },
    {
      "cell_type": "code",
      "source": [
        "p_value"
      ],
      "metadata": {
        "colab": {
          "base_uri": "https://localhost:8080/"
        },
        "id": "YwvILeG0P-JO",
        "outputId": "708fdfb8-2f63-4784-c007-d3da7b52d3db"
      },
      "execution_count": null,
      "outputs": [
        {
          "output_type": "execute_result",
          "data": {
            "text/plain": [
              "0.43197487442360005"
            ]
          },
          "metadata": {},
          "execution_count": 25
        }
      ]
    },
    {
      "cell_type": "code",
      "source": [
        "if p_value<0.05:  # 0.05 - significant value\n",
        "  print(\"we reject the null hypothesis\")\n",
        "else:\n",
        "  print(\"we fail to reject the null hypothesis\")"
      ],
      "metadata": {
        "colab": {
          "base_uri": "https://localhost:8080/"
        },
        "id": "jMvwdHM2QTh3",
        "outputId": "4b4e88c3-a663-4bb2-878f-c8f73fea43a4"
      },
      "execution_count": null,
      "outputs": [
        {
          "output_type": "stream",
          "name": "stdout",
          "text": [
            "we fail to reject the null hypothesis\n"
          ]
        }
      ]
    },
    {
      "cell_type": "code",
      "source": [
        "import random\n",
        "population =[]\n",
        "for i in range(1,51):\n",
        "  population.append(random.randint(10,80))"
      ],
      "metadata": {
        "id": "5BU3mBXjQbM8"
      },
      "execution_count": null,
      "outputs": []
    },
    {
      "cell_type": "code",
      "source": [
        "population"
      ],
      "metadata": {
        "colab": {
          "base_uri": "https://localhost:8080/"
        },
        "id": "xBiSlpAJRG28",
        "outputId": "869cf14a-f490-45a7-90c8-03e2e46d54f8"
      },
      "execution_count": null,
      "outputs": [
        {
          "output_type": "execute_result",
          "data": {
            "text/plain": [
              "[26,\n",
              " 62,\n",
              " 58,\n",
              " 70,\n",
              " 43,\n",
              " 68,\n",
              " 16,\n",
              " 65,\n",
              " 52,\n",
              " 26,\n",
              " 20,\n",
              " 19,\n",
              " 59,\n",
              " 41,\n",
              " 19,\n",
              " 54,\n",
              " 21,\n",
              " 66,\n",
              " 21,\n",
              " 73,\n",
              " 75,\n",
              " 23,\n",
              " 15,\n",
              " 18,\n",
              " 41,\n",
              " 10,\n",
              " 42,\n",
              " 17,\n",
              " 19,\n",
              " 59,\n",
              " 35,\n",
              " 32,\n",
              " 26,\n",
              " 47,\n",
              " 47,\n",
              " 20,\n",
              " 35,\n",
              " 53,\n",
              " 68,\n",
              " 57,\n",
              " 32,\n",
              " 67,\n",
              " 68,\n",
              " 12,\n",
              " 46,\n",
              " 80,\n",
              " 63,\n",
              " 45,\n",
              " 66,\n",
              " 10]"
            ]
          },
          "metadata": {},
          "execution_count": 37
        }
      ]
    },
    {
      "cell_type": "code",
      "source": [
        "len(population)"
      ],
      "metadata": {
        "colab": {
          "base_uri": "https://localhost:8080/"
        },
        "id": "8xO8_1MmRI4a",
        "outputId": "1bca8ec4-b9c6-4c87-f140-0e883cdabc6c"
      },
      "execution_count": null,
      "outputs": [
        {
          "output_type": "execute_result",
          "data": {
            "text/plain": [
              "50"
            ]
          },
          "metadata": {},
          "execution_count": 38
        }
      ]
    },
    {
      "cell_type": "code",
      "source": [
        "my_cricket_score_from_first_inning=np.random.choice(population,size=20)"
      ],
      "metadata": {
        "id": "sHgtlbmHRNLW"
      },
      "execution_count": null,
      "outputs": []
    },
    {
      "cell_type": "code",
      "source": [
        "my_cricket_score_from_second_inning=np.random.choice(population,size=20)"
      ],
      "metadata": {
        "id": "l6oygBpvRT0G"
      },
      "execution_count": null,
      "outputs": []
    },
    {
      "cell_type": "code",
      "source": [
        "# paired sample t test\n",
        "# take a sample from sample population on different time interval\n",
        "\n",
        "print(my_cricket_score_from_first_inning)\n",
        "print(my_cricket_score_from_second_inning)"
      ],
      "metadata": {
        "colab": {
          "base_uri": "https://localhost:8080/"
        },
        "id": "16gszJcIRb3-",
        "outputId": "027aa512-3fa3-4ead-8c94-666b25339ed2"
      },
      "execution_count": null,
      "outputs": [
        {
          "output_type": "stream",
          "name": "stdout",
          "text": [
            "[17 44  1 15 31 28 11  0 21 27 43 48 22 29  4 48 15 45 36 44]\n",
            "[20 46 32 47 19 16 65 59 19 75 41 80 57 47 12 68 53 59 32 20]\n"
          ]
        }
      ]
    },
    {
      "cell_type": "code",
      "source": [
        "my_cricket_score_from_first_inning=[8,7,14,9,17,12,46,29,8,26,19,31,46,24,44,10,13,42,25,28]"
      ],
      "metadata": {
        "id": "V9YmBYeCSa4D"
      },
      "execution_count": null,
      "outputs": []
    },
    {
      "cell_type": "code",
      "source": [
        "np.mean(my_cricket_score_from_first_inning)"
      ],
      "metadata": {
        "colab": {
          "base_uri": "https://localhost:8080/"
        },
        "id": "EBbJlBFpSmd5",
        "outputId": "b639a0b5-ef17-4442-d30b-9d4fffaf9c93"
      },
      "execution_count": null,
      "outputs": [
        {
          "output_type": "execute_result",
          "data": {
            "text/plain": [
              "22.9"
            ]
          },
          "metadata": {},
          "execution_count": 43
        }
      ]
    },
    {
      "cell_type": "code",
      "source": [
        "np.mean(my_cricket_score_from_second_inning)"
      ],
      "metadata": {
        "colab": {
          "base_uri": "https://localhost:8080/"
        },
        "id": "kJoD51LySqvo",
        "outputId": "aae88007-05dd-4442-ded8-2bdf23946c5f"
      },
      "execution_count": null,
      "outputs": [
        {
          "output_type": "execute_result",
          "data": {
            "text/plain": [
              "43.35"
            ]
          },
          "metadata": {},
          "execution_count": 44
        }
      ]
    },
    {
      "cell_type": "markdown",
      "source": [
        "**#my_null_hyphthesis=both sample mean will be equal**"
      ],
      "metadata": {
        "id": "wCi75anQSzW9"
      }
    },
    {
      "cell_type": "code",
      "source": [
        "t_stats,p_value=scipy.stats.ttest_rel(my_cricket_score_from_first_inning,my_cricket_score_from_second_inning)"
      ],
      "metadata": {
        "id": "dPPelDVoSttc"
      },
      "execution_count": null,
      "outputs": []
    },
    {
      "cell_type": "code",
      "source": [
        "p_value"
      ],
      "metadata": {
        "colab": {
          "base_uri": "https://localhost:8080/"
        },
        "id": "Y9ZgYILVS-fm",
        "outputId": "2aac7169-204b-4afd-8308-86cc9f3221c7"
      },
      "execution_count": null,
      "outputs": [
        {
          "output_type": "execute_result",
          "data": {
            "text/plain": [
              "0.000432723040381725"
            ]
          },
          "metadata": {},
          "execution_count": 46
        }
      ]
    },
    {
      "cell_type": "code",
      "source": [
        "if p_value<=0.05:\n",
        "    print(\"reject the null hyphothesis\")\n",
        "else:\n",
        "    print(\"Accept the null hyphothesis/we fail to reject the null hypothesis\")"
      ],
      "metadata": {
        "colab": {
          "base_uri": "https://localhost:8080/"
        },
        "id": "d3pcN2LrTDPY",
        "outputId": "69893484-b7f7-4d46-8a08-cd9c2b077d7f"
      },
      "execution_count": null,
      "outputs": [
        {
          "output_type": "stream",
          "name": "stdout",
          "text": [
            "reject the null hyphothesis\n"
          ]
        }
      ]
    },
    {
      "cell_type": "markdown",
      "source": [
        "**The weights of 25 obese people were taken before enrolling them into the nutrition camp. The population mean weight is found to be 45 kg before starting the camp. After finishing the camp, for the same 25 people, the sample mean was found to be 75 with a standard deviation of 25. Did the fitness camp work?**"
      ],
      "metadata": {
        "id": "Nv8Ur15QTeZV"
      }
    },
    {
      "cell_type": "markdown",
      "source": [
        "n=25,mu=45, sample mean=75, sampel std deviation=25\n",
        "\n",
        " we dont have  population std deviation so we are going use t test\n",
        "\n",
        " H0--> mu=45(sample mean  is population or true mean)\n",
        "\n",
        " H1--> mu!=45 ( 2 tail test)( sample mean is not population mean)\n"
      ],
      "metadata": {
        "id": "sxKDd-e5Yl6A"
      }
    },
    {
      "cell_type": "code",
      "source": [
        "population_mean=45\n",
        "sample_mean=75\n",
        "n=25\n",
        "sample_std=25"
      ],
      "metadata": {
        "id": "ADgaBTiXTE6P"
      },
      "execution_count": null,
      "outputs": []
    },
    {
      "cell_type": "code",
      "source": [
        "t_stats=(sample_mean-population_mean)/(sample_std/np.sqrt(n))"
      ],
      "metadata": {
        "id": "2l1kMUf5ZeSt"
      },
      "execution_count": null,
      "outputs": []
    },
    {
      "cell_type": "code",
      "source": [
        "t_stats   # base on our observation which is given in data"
      ],
      "metadata": {
        "colab": {
          "base_uri": "https://localhost:8080/"
        },
        "id": "QqT-436hZ0KT",
        "outputId": "7cf2aa16-625f-44a6-e059-76a31daaa09c"
      },
      "execution_count": null,
      "outputs": [
        {
          "output_type": "execute_result",
          "data": {
            "text/plain": [
              "6.0"
            ]
          },
          "metadata": {},
          "execution_count": 52
        }
      ]
    },
    {
      "cell_type": "code",
      "source": [
        "#calculate t test table"
      ],
      "metadata": {
        "id": "VHx8LzUQZ0HW"
      },
      "execution_count": null,
      "outputs": []
    },
    {
      "cell_type": "code",
      "source": [
        "df=n-1"
      ],
      "metadata": {
        "id": "bD62Hmm1Z0DT"
      },
      "execution_count": null,
      "outputs": []
    },
    {
      "cell_type": "code",
      "source": [
        "df"
      ],
      "metadata": {
        "colab": {
          "base_uri": "https://localhost:8080/"
        },
        "id": "7Kr3EyZyZz3k",
        "outputId": "830fdeaf-8be4-4343-9aa1-07c1061ebbc1"
      },
      "execution_count": null,
      "outputs": [
        {
          "output_type": "execute_result",
          "data": {
            "text/plain": [
              "24"
            ]
          },
          "metadata": {},
          "execution_count": 54
        }
      ]
    },
    {
      "cell_type": "code",
      "source": [
        "alpha=0.05\n",
        "CI=0.95"
      ],
      "metadata": {
        "id": "cEqHscB0aIzE"
      },
      "execution_count": null,
      "outputs": []
    },
    {
      "cell_type": "code",
      "source": [],
      "metadata": {
        "id": "SzpH3Rz9axC_"
      },
      "execution_count": null,
      "outputs": []
    },
    {
      "cell_type": "code",
      "source": [
        "# critical value\n",
        "critical_value=stats.t.ppf(CI,df)"
      ],
      "metadata": {
        "id": "grTLvfIwaIu2"
      },
      "execution_count": null,
      "outputs": []
    },
    {
      "cell_type": "code",
      "source": [
        "critical_value"
      ],
      "metadata": {
        "colab": {
          "base_uri": "https://localhost:8080/"
        },
        "id": "_s5a2RdbaIqB",
        "outputId": "63edf0c7-e5c3-4e85-b01a-2cc75a98273c"
      },
      "execution_count": null,
      "outputs": [
        {
          "output_type": "execute_result",
          "data": {
            "text/plain": [
              "1.7108820799094275"
            ]
          },
          "metadata": {},
          "execution_count": 84
        }
      ]
    },
    {
      "cell_type": "code",
      "source": [
        "print(\"t-stats:\",t_stats)\n",
        "print(\"critical_value:\",critical_value)"
      ],
      "metadata": {
        "colab": {
          "base_uri": "https://localhost:8080/"
        },
        "id": "T3s1sPpfaImv",
        "outputId": "16dcc8e8-0be9-4295-f607-1f63aa555474"
      },
      "execution_count": null,
      "outputs": [
        {
          "output_type": "stream",
          "name": "stdout",
          "text": [
            "t-stats: 6.0\n",
            "critical_value: 1.7108820799094275\n"
          ]
        }
      ]
    },
    {
      "cell_type": "markdown",
      "source": [
        "**t_stats or  t_test > critical value === we reject the null hypothesis (H1 is true)**\n",
        "\n",
        "**conclusion: yes fitness camp works**"
      ],
      "metadata": {
        "id": "EAQWi6y8dsMg"
      }
    },
    {
      "cell_type": "code",
      "source": [
        "p1_value=1-stats.t.cdf(t_stats,df)"
      ],
      "metadata": {
        "id": "_FhaR0NdaIjb"
      },
      "execution_count": null,
      "outputs": []
    },
    {
      "cell_type": "code",
      "source": [
        "p1_value"
      ],
      "metadata": {
        "colab": {
          "base_uri": "https://localhost:8080/"
        },
        "id": "1IbgTLeXbeYC",
        "outputId": "5d8d2658-3ab3-4eca-9c1d-0e47e7325d5c"
      },
      "execution_count": null,
      "outputs": [
        {
          "output_type": "execute_result",
          "data": {
            "text/plain": [
              "1.703654035845048e-06"
            ]
          },
          "metadata": {},
          "execution_count": 104
        }
      ]
    },
    {
      "cell_type": "code",
      "source": [
        "\n",
        "if p1_value<=0.05:\n",
        "  print(\"reject the null hyphothesis\")\n",
        "else:\n",
        "  print(\"we fail to reject the null hyothesis\")"
      ],
      "metadata": {
        "colab": {
          "base_uri": "https://localhost:8080/"
        },
        "id": "r324mlu2b3QT",
        "outputId": "118f51d4-6814-46ae-c328-1cc07fc6da7e"
      },
      "execution_count": null,
      "outputs": [
        {
          "output_type": "stream",
          "name": "stdout",
          "text": [
            "reject the null hyphothesis\n"
          ]
        }
      ]
    },
    {
      "cell_type": "markdown",
      "source": [
        "# chi-sqaure test- categorical data\n"
      ],
      "metadata": {
        "id": "1BYV26zqTRD-"
      }
    },
    {
      "cell_type": "code",
      "source": [
        "import seaborn as sns\n",
        "dataset=sns.load_dataset('tips')"
      ],
      "metadata": {
        "id": "GhptuICEZiZq"
      },
      "execution_count": null,
      "outputs": []
    },
    {
      "cell_type": "code",
      "source": [
        "dataset"
      ],
      "metadata": {
        "colab": {
          "base_uri": "https://localhost:8080/",
          "height": 423
        },
        "id": "vaY-rNtMThjw",
        "outputId": "8cd66be1-c9da-4256-e56c-80df6110fe47"
      },
      "execution_count": null,
      "outputs": [
        {
          "output_type": "execute_result",
          "data": {
            "text/plain": [
              "     total_bill   tip     sex smoker   day    time  size\n",
              "0         16.99  1.01  Female     No   Sun  Dinner     2\n",
              "1         10.34  1.66    Male     No   Sun  Dinner     3\n",
              "2         21.01  3.50    Male     No   Sun  Dinner     3\n",
              "3         23.68  3.31    Male     No   Sun  Dinner     2\n",
              "4         24.59  3.61  Female     No   Sun  Dinner     4\n",
              "..          ...   ...     ...    ...   ...     ...   ...\n",
              "239       29.03  5.92    Male     No   Sat  Dinner     3\n",
              "240       27.18  2.00  Female    Yes   Sat  Dinner     2\n",
              "241       22.67  2.00    Male    Yes   Sat  Dinner     2\n",
              "242       17.82  1.75    Male     No   Sat  Dinner     2\n",
              "243       18.78  3.00  Female     No  Thur  Dinner     2\n",
              "\n",
              "[244 rows x 7 columns]"
            ],
            "text/html": [
              "\n",
              "  <div id=\"df-e371d040-53ea-416b-a48a-dbf83932f4ca\" class=\"colab-df-container\">\n",
              "    <div>\n",
              "<style scoped>\n",
              "    .dataframe tbody tr th:only-of-type {\n",
              "        vertical-align: middle;\n",
              "    }\n",
              "\n",
              "    .dataframe tbody tr th {\n",
              "        vertical-align: top;\n",
              "    }\n",
              "\n",
              "    .dataframe thead th {\n",
              "        text-align: right;\n",
              "    }\n",
              "</style>\n",
              "<table border=\"1\" class=\"dataframe\">\n",
              "  <thead>\n",
              "    <tr style=\"text-align: right;\">\n",
              "      <th></th>\n",
              "      <th>total_bill</th>\n",
              "      <th>tip</th>\n",
              "      <th>sex</th>\n",
              "      <th>smoker</th>\n",
              "      <th>day</th>\n",
              "      <th>time</th>\n",
              "      <th>size</th>\n",
              "    </tr>\n",
              "  </thead>\n",
              "  <tbody>\n",
              "    <tr>\n",
              "      <th>0</th>\n",
              "      <td>16.99</td>\n",
              "      <td>1.01</td>\n",
              "      <td>Female</td>\n",
              "      <td>No</td>\n",
              "      <td>Sun</td>\n",
              "      <td>Dinner</td>\n",
              "      <td>2</td>\n",
              "    </tr>\n",
              "    <tr>\n",
              "      <th>1</th>\n",
              "      <td>10.34</td>\n",
              "      <td>1.66</td>\n",
              "      <td>Male</td>\n",
              "      <td>No</td>\n",
              "      <td>Sun</td>\n",
              "      <td>Dinner</td>\n",
              "      <td>3</td>\n",
              "    </tr>\n",
              "    <tr>\n",
              "      <th>2</th>\n",
              "      <td>21.01</td>\n",
              "      <td>3.50</td>\n",
              "      <td>Male</td>\n",
              "      <td>No</td>\n",
              "      <td>Sun</td>\n",
              "      <td>Dinner</td>\n",
              "      <td>3</td>\n",
              "    </tr>\n",
              "    <tr>\n",
              "      <th>3</th>\n",
              "      <td>23.68</td>\n",
              "      <td>3.31</td>\n",
              "      <td>Male</td>\n",
              "      <td>No</td>\n",
              "      <td>Sun</td>\n",
              "      <td>Dinner</td>\n",
              "      <td>2</td>\n",
              "    </tr>\n",
              "    <tr>\n",
              "      <th>4</th>\n",
              "      <td>24.59</td>\n",
              "      <td>3.61</td>\n",
              "      <td>Female</td>\n",
              "      <td>No</td>\n",
              "      <td>Sun</td>\n",
              "      <td>Dinner</td>\n",
              "      <td>4</td>\n",
              "    </tr>\n",
              "    <tr>\n",
              "      <th>...</th>\n",
              "      <td>...</td>\n",
              "      <td>...</td>\n",
              "      <td>...</td>\n",
              "      <td>...</td>\n",
              "      <td>...</td>\n",
              "      <td>...</td>\n",
              "      <td>...</td>\n",
              "    </tr>\n",
              "    <tr>\n",
              "      <th>239</th>\n",
              "      <td>29.03</td>\n",
              "      <td>5.92</td>\n",
              "      <td>Male</td>\n",
              "      <td>No</td>\n",
              "      <td>Sat</td>\n",
              "      <td>Dinner</td>\n",
              "      <td>3</td>\n",
              "    </tr>\n",
              "    <tr>\n",
              "      <th>240</th>\n",
              "      <td>27.18</td>\n",
              "      <td>2.00</td>\n",
              "      <td>Female</td>\n",
              "      <td>Yes</td>\n",
              "      <td>Sat</td>\n",
              "      <td>Dinner</td>\n",
              "      <td>2</td>\n",
              "    </tr>\n",
              "    <tr>\n",
              "      <th>241</th>\n",
              "      <td>22.67</td>\n",
              "      <td>2.00</td>\n",
              "      <td>Male</td>\n",
              "      <td>Yes</td>\n",
              "      <td>Sat</td>\n",
              "      <td>Dinner</td>\n",
              "      <td>2</td>\n",
              "    </tr>\n",
              "    <tr>\n",
              "      <th>242</th>\n",
              "      <td>17.82</td>\n",
              "      <td>1.75</td>\n",
              "      <td>Male</td>\n",
              "      <td>No</td>\n",
              "      <td>Sat</td>\n",
              "      <td>Dinner</td>\n",
              "      <td>2</td>\n",
              "    </tr>\n",
              "    <tr>\n",
              "      <th>243</th>\n",
              "      <td>18.78</td>\n",
              "      <td>3.00</td>\n",
              "      <td>Female</td>\n",
              "      <td>No</td>\n",
              "      <td>Thur</td>\n",
              "      <td>Dinner</td>\n",
              "      <td>2</td>\n",
              "    </tr>\n",
              "  </tbody>\n",
              "</table>\n",
              "<p>244 rows × 7 columns</p>\n",
              "</div>\n",
              "    <div class=\"colab-df-buttons\">\n",
              "\n",
              "  <div class=\"colab-df-container\">\n",
              "    <button class=\"colab-df-convert\" onclick=\"convertToInteractive('df-e371d040-53ea-416b-a48a-dbf83932f4ca')\"\n",
              "            title=\"Convert this dataframe to an interactive table.\"\n",
              "            style=\"display:none;\">\n",
              "\n",
              "  <svg xmlns=\"http://www.w3.org/2000/svg\" height=\"24px\" viewBox=\"0 -960 960 960\">\n",
              "    <path d=\"M120-120v-720h720v720H120Zm60-500h600v-160H180v160Zm220 220h160v-160H400v160Zm0 220h160v-160H400v160ZM180-400h160v-160H180v160Zm440 0h160v-160H620v160ZM180-180h160v-160H180v160Zm440 0h160v-160H620v160Z\"/>\n",
              "  </svg>\n",
              "    </button>\n",
              "\n",
              "  <style>\n",
              "    .colab-df-container {\n",
              "      display:flex;\n",
              "      gap: 12px;\n",
              "    }\n",
              "\n",
              "    .colab-df-convert {\n",
              "      background-color: #E8F0FE;\n",
              "      border: none;\n",
              "      border-radius: 50%;\n",
              "      cursor: pointer;\n",
              "      display: none;\n",
              "      fill: #1967D2;\n",
              "      height: 32px;\n",
              "      padding: 0 0 0 0;\n",
              "      width: 32px;\n",
              "    }\n",
              "\n",
              "    .colab-df-convert:hover {\n",
              "      background-color: #E2EBFA;\n",
              "      box-shadow: 0px 1px 2px rgba(60, 64, 67, 0.3), 0px 1px 3px 1px rgba(60, 64, 67, 0.15);\n",
              "      fill: #174EA6;\n",
              "    }\n",
              "\n",
              "    .colab-df-buttons div {\n",
              "      margin-bottom: 4px;\n",
              "    }\n",
              "\n",
              "    [theme=dark] .colab-df-convert {\n",
              "      background-color: #3B4455;\n",
              "      fill: #D2E3FC;\n",
              "    }\n",
              "\n",
              "    [theme=dark] .colab-df-convert:hover {\n",
              "      background-color: #434B5C;\n",
              "      box-shadow: 0px 1px 3px 1px rgba(0, 0, 0, 0.15);\n",
              "      filter: drop-shadow(0px 1px 2px rgba(0, 0, 0, 0.3));\n",
              "      fill: #FFFFFF;\n",
              "    }\n",
              "  </style>\n",
              "\n",
              "    <script>\n",
              "      const buttonEl =\n",
              "        document.querySelector('#df-e371d040-53ea-416b-a48a-dbf83932f4ca button.colab-df-convert');\n",
              "      buttonEl.style.display =\n",
              "        google.colab.kernel.accessAllowed ? 'block' : 'none';\n",
              "\n",
              "      async function convertToInteractive(key) {\n",
              "        const element = document.querySelector('#df-e371d040-53ea-416b-a48a-dbf83932f4ca');\n",
              "        const dataTable =\n",
              "          await google.colab.kernel.invokeFunction('convertToInteractive',\n",
              "                                                    [key], {});\n",
              "        if (!dataTable) return;\n",
              "\n",
              "        const docLinkHtml = 'Like what you see? Visit the ' +\n",
              "          '<a target=\"_blank\" href=https://colab.research.google.com/notebooks/data_table.ipynb>data table notebook</a>'\n",
              "          + ' to learn more about interactive tables.';\n",
              "        element.innerHTML = '';\n",
              "        dataTable['output_type'] = 'display_data';\n",
              "        await google.colab.output.renderOutput(dataTable, element);\n",
              "        const docLink = document.createElement('div');\n",
              "        docLink.innerHTML = docLinkHtml;\n",
              "        element.appendChild(docLink);\n",
              "      }\n",
              "    </script>\n",
              "  </div>\n",
              "\n",
              "\n",
              "<div id=\"df-8fae95ca-783e-43a4-9356-9058e31aa803\">\n",
              "  <button class=\"colab-df-quickchart\" onclick=\"quickchart('df-8fae95ca-783e-43a4-9356-9058e31aa803')\"\n",
              "            title=\"Suggest charts.\"\n",
              "            style=\"display:none;\">\n",
              "\n",
              "<svg xmlns=\"http://www.w3.org/2000/svg\" height=\"24px\"viewBox=\"0 0 24 24\"\n",
              "     width=\"24px\">\n",
              "    <g>\n",
              "        <path d=\"M19 3H5c-1.1 0-2 .9-2 2v14c0 1.1.9 2 2 2h14c1.1 0 2-.9 2-2V5c0-1.1-.9-2-2-2zM9 17H7v-7h2v7zm4 0h-2V7h2v10zm4 0h-2v-4h2v4z\"/>\n",
              "    </g>\n",
              "</svg>\n",
              "  </button>\n",
              "\n",
              "<style>\n",
              "  .colab-df-quickchart {\n",
              "      --bg-color: #E8F0FE;\n",
              "      --fill-color: #1967D2;\n",
              "      --hover-bg-color: #E2EBFA;\n",
              "      --hover-fill-color: #174EA6;\n",
              "      --disabled-fill-color: #AAA;\n",
              "      --disabled-bg-color: #DDD;\n",
              "  }\n",
              "\n",
              "  [theme=dark] .colab-df-quickchart {\n",
              "      --bg-color: #3B4455;\n",
              "      --fill-color: #D2E3FC;\n",
              "      --hover-bg-color: #434B5C;\n",
              "      --hover-fill-color: #FFFFFF;\n",
              "      --disabled-bg-color: #3B4455;\n",
              "      --disabled-fill-color: #666;\n",
              "  }\n",
              "\n",
              "  .colab-df-quickchart {\n",
              "    background-color: var(--bg-color);\n",
              "    border: none;\n",
              "    border-radius: 50%;\n",
              "    cursor: pointer;\n",
              "    display: none;\n",
              "    fill: var(--fill-color);\n",
              "    height: 32px;\n",
              "    padding: 0;\n",
              "    width: 32px;\n",
              "  }\n",
              "\n",
              "  .colab-df-quickchart:hover {\n",
              "    background-color: var(--hover-bg-color);\n",
              "    box-shadow: 0 1px 2px rgba(60, 64, 67, 0.3), 0 1px 3px 1px rgba(60, 64, 67, 0.15);\n",
              "    fill: var(--button-hover-fill-color);\n",
              "  }\n",
              "\n",
              "  .colab-df-quickchart-complete:disabled,\n",
              "  .colab-df-quickchart-complete:disabled:hover {\n",
              "    background-color: var(--disabled-bg-color);\n",
              "    fill: var(--disabled-fill-color);\n",
              "    box-shadow: none;\n",
              "  }\n",
              "\n",
              "  .colab-df-spinner {\n",
              "    border: 2px solid var(--fill-color);\n",
              "    border-color: transparent;\n",
              "    border-bottom-color: var(--fill-color);\n",
              "    animation:\n",
              "      spin 1s steps(1) infinite;\n",
              "  }\n",
              "\n",
              "  @keyframes spin {\n",
              "    0% {\n",
              "      border-color: transparent;\n",
              "      border-bottom-color: var(--fill-color);\n",
              "      border-left-color: var(--fill-color);\n",
              "    }\n",
              "    20% {\n",
              "      border-color: transparent;\n",
              "      border-left-color: var(--fill-color);\n",
              "      border-top-color: var(--fill-color);\n",
              "    }\n",
              "    30% {\n",
              "      border-color: transparent;\n",
              "      border-left-color: var(--fill-color);\n",
              "      border-top-color: var(--fill-color);\n",
              "      border-right-color: var(--fill-color);\n",
              "    }\n",
              "    40% {\n",
              "      border-color: transparent;\n",
              "      border-right-color: var(--fill-color);\n",
              "      border-top-color: var(--fill-color);\n",
              "    }\n",
              "    60% {\n",
              "      border-color: transparent;\n",
              "      border-right-color: var(--fill-color);\n",
              "    }\n",
              "    80% {\n",
              "      border-color: transparent;\n",
              "      border-right-color: var(--fill-color);\n",
              "      border-bottom-color: var(--fill-color);\n",
              "    }\n",
              "    90% {\n",
              "      border-color: transparent;\n",
              "      border-bottom-color: var(--fill-color);\n",
              "    }\n",
              "  }\n",
              "</style>\n",
              "\n",
              "  <script>\n",
              "    async function quickchart(key) {\n",
              "      const quickchartButtonEl =\n",
              "        document.querySelector('#' + key + ' button');\n",
              "      quickchartButtonEl.disabled = true;  // To prevent multiple clicks.\n",
              "      quickchartButtonEl.classList.add('colab-df-spinner');\n",
              "      try {\n",
              "        const charts = await google.colab.kernel.invokeFunction(\n",
              "            'suggestCharts', [key], {});\n",
              "      } catch (error) {\n",
              "        console.error('Error during call to suggestCharts:', error);\n",
              "      }\n",
              "      quickchartButtonEl.classList.remove('colab-df-spinner');\n",
              "      quickchartButtonEl.classList.add('colab-df-quickchart-complete');\n",
              "    }\n",
              "    (() => {\n",
              "      let quickchartButtonEl =\n",
              "        document.querySelector('#df-8fae95ca-783e-43a4-9356-9058e31aa803 button');\n",
              "      quickchartButtonEl.style.display =\n",
              "        google.colab.kernel.accessAllowed ? 'block' : 'none';\n",
              "    })();\n",
              "  </script>\n",
              "</div>\n",
              "    </div>\n",
              "  </div>\n"
            ]
          },
          "metadata": {},
          "execution_count": 11
        }
      ]
    },
    {
      "cell_type": "code",
      "source": [
        "dataset.info()"
      ],
      "metadata": {
        "colab": {
          "base_uri": "https://localhost:8080/"
        },
        "id": "HMe4AulGgsU1",
        "outputId": "56fdfc0c-4851-4e7d-b914-a19a9f4fd87a"
      },
      "execution_count": null,
      "outputs": [
        {
          "output_type": "stream",
          "name": "stdout",
          "text": [
            "<class 'pandas.core.frame.DataFrame'>\n",
            "RangeIndex: 244 entries, 0 to 243\n",
            "Data columns (total 7 columns):\n",
            " #   Column      Non-Null Count  Dtype   \n",
            "---  ------      --------------  -----   \n",
            " 0   total_bill  244 non-null    float64 \n",
            " 1   tip         244 non-null    float64 \n",
            " 2   sex         244 non-null    category\n",
            " 3   smoker      244 non-null    category\n",
            " 4   day         244 non-null    category\n",
            " 5   time        244 non-null    category\n",
            " 6   size        244 non-null    int64   \n",
            "dtypes: category(4), float64(2), int64(1)\n",
            "memory usage: 7.4 KB\n"
          ]
        }
      ]
    },
    {
      "cell_type": "code",
      "source": [
        "dataset.columns"
      ],
      "metadata": {
        "colab": {
          "base_uri": "https://localhost:8080/"
        },
        "id": "ux43gS5uhQvG",
        "outputId": "a081b4ce-5037-4797-dd73-5843c27c4de5"
      },
      "execution_count": null,
      "outputs": [
        {
          "output_type": "execute_result",
          "data": {
            "text/plain": [
              "Index(['total_bill', 'tip', 'sex', 'smoker', 'day', 'time', 'size'], dtype='object')"
            ]
          },
          "metadata": {},
          "execution_count": 13
        }
      ]
    },
    {
      "cell_type": "code",
      "source": [
        "dataset.head()"
      ],
      "metadata": {
        "colab": {
          "base_uri": "https://localhost:8080/",
          "height": 206
        },
        "id": "00ZXOgaGhYOo",
        "outputId": "b71052f1-7cfc-4a62-dd24-ac1d6de828e5"
      },
      "execution_count": null,
      "outputs": [
        {
          "output_type": "execute_result",
          "data": {
            "text/plain": [
              "   total_bill   tip     sex smoker  day    time  size\n",
              "0       16.99  1.01  Female     No  Sun  Dinner     2\n",
              "1       10.34  1.66    Male     No  Sun  Dinner     3\n",
              "2       21.01  3.50    Male     No  Sun  Dinner     3\n",
              "3       23.68  3.31    Male     No  Sun  Dinner     2\n",
              "4       24.59  3.61  Female     No  Sun  Dinner     4"
            ],
            "text/html": [
              "\n",
              "  <div id=\"df-a3c78852-2ce4-41ce-9277-91e4354416a7\" class=\"colab-df-container\">\n",
              "    <div>\n",
              "<style scoped>\n",
              "    .dataframe tbody tr th:only-of-type {\n",
              "        vertical-align: middle;\n",
              "    }\n",
              "\n",
              "    .dataframe tbody tr th {\n",
              "        vertical-align: top;\n",
              "    }\n",
              "\n",
              "    .dataframe thead th {\n",
              "        text-align: right;\n",
              "    }\n",
              "</style>\n",
              "<table border=\"1\" class=\"dataframe\">\n",
              "  <thead>\n",
              "    <tr style=\"text-align: right;\">\n",
              "      <th></th>\n",
              "      <th>total_bill</th>\n",
              "      <th>tip</th>\n",
              "      <th>sex</th>\n",
              "      <th>smoker</th>\n",
              "      <th>day</th>\n",
              "      <th>time</th>\n",
              "      <th>size</th>\n",
              "    </tr>\n",
              "  </thead>\n",
              "  <tbody>\n",
              "    <tr>\n",
              "      <th>0</th>\n",
              "      <td>16.99</td>\n",
              "      <td>1.01</td>\n",
              "      <td>Female</td>\n",
              "      <td>No</td>\n",
              "      <td>Sun</td>\n",
              "      <td>Dinner</td>\n",
              "      <td>2</td>\n",
              "    </tr>\n",
              "    <tr>\n",
              "      <th>1</th>\n",
              "      <td>10.34</td>\n",
              "      <td>1.66</td>\n",
              "      <td>Male</td>\n",
              "      <td>No</td>\n",
              "      <td>Sun</td>\n",
              "      <td>Dinner</td>\n",
              "      <td>3</td>\n",
              "    </tr>\n",
              "    <tr>\n",
              "      <th>2</th>\n",
              "      <td>21.01</td>\n",
              "      <td>3.50</td>\n",
              "      <td>Male</td>\n",
              "      <td>No</td>\n",
              "      <td>Sun</td>\n",
              "      <td>Dinner</td>\n",
              "      <td>3</td>\n",
              "    </tr>\n",
              "    <tr>\n",
              "      <th>3</th>\n",
              "      <td>23.68</td>\n",
              "      <td>3.31</td>\n",
              "      <td>Male</td>\n",
              "      <td>No</td>\n",
              "      <td>Sun</td>\n",
              "      <td>Dinner</td>\n",
              "      <td>2</td>\n",
              "    </tr>\n",
              "    <tr>\n",
              "      <th>4</th>\n",
              "      <td>24.59</td>\n",
              "      <td>3.61</td>\n",
              "      <td>Female</td>\n",
              "      <td>No</td>\n",
              "      <td>Sun</td>\n",
              "      <td>Dinner</td>\n",
              "      <td>4</td>\n",
              "    </tr>\n",
              "  </tbody>\n",
              "</table>\n",
              "</div>\n",
              "    <div class=\"colab-df-buttons\">\n",
              "\n",
              "  <div class=\"colab-df-container\">\n",
              "    <button class=\"colab-df-convert\" onclick=\"convertToInteractive('df-a3c78852-2ce4-41ce-9277-91e4354416a7')\"\n",
              "            title=\"Convert this dataframe to an interactive table.\"\n",
              "            style=\"display:none;\">\n",
              "\n",
              "  <svg xmlns=\"http://www.w3.org/2000/svg\" height=\"24px\" viewBox=\"0 -960 960 960\">\n",
              "    <path d=\"M120-120v-720h720v720H120Zm60-500h600v-160H180v160Zm220 220h160v-160H400v160Zm0 220h160v-160H400v160ZM180-400h160v-160H180v160Zm440 0h160v-160H620v160ZM180-180h160v-160H180v160Zm440 0h160v-160H620v160Z\"/>\n",
              "  </svg>\n",
              "    </button>\n",
              "\n",
              "  <style>\n",
              "    .colab-df-container {\n",
              "      display:flex;\n",
              "      gap: 12px;\n",
              "    }\n",
              "\n",
              "    .colab-df-convert {\n",
              "      background-color: #E8F0FE;\n",
              "      border: none;\n",
              "      border-radius: 50%;\n",
              "      cursor: pointer;\n",
              "      display: none;\n",
              "      fill: #1967D2;\n",
              "      height: 32px;\n",
              "      padding: 0 0 0 0;\n",
              "      width: 32px;\n",
              "    }\n",
              "\n",
              "    .colab-df-convert:hover {\n",
              "      background-color: #E2EBFA;\n",
              "      box-shadow: 0px 1px 2px rgba(60, 64, 67, 0.3), 0px 1px 3px 1px rgba(60, 64, 67, 0.15);\n",
              "      fill: #174EA6;\n",
              "    }\n",
              "\n",
              "    .colab-df-buttons div {\n",
              "      margin-bottom: 4px;\n",
              "    }\n",
              "\n",
              "    [theme=dark] .colab-df-convert {\n",
              "      background-color: #3B4455;\n",
              "      fill: #D2E3FC;\n",
              "    }\n",
              "\n",
              "    [theme=dark] .colab-df-convert:hover {\n",
              "      background-color: #434B5C;\n",
              "      box-shadow: 0px 1px 3px 1px rgba(0, 0, 0, 0.15);\n",
              "      filter: drop-shadow(0px 1px 2px rgba(0, 0, 0, 0.3));\n",
              "      fill: #FFFFFF;\n",
              "    }\n",
              "  </style>\n",
              "\n",
              "    <script>\n",
              "      const buttonEl =\n",
              "        document.querySelector('#df-a3c78852-2ce4-41ce-9277-91e4354416a7 button.colab-df-convert');\n",
              "      buttonEl.style.display =\n",
              "        google.colab.kernel.accessAllowed ? 'block' : 'none';\n",
              "\n",
              "      async function convertToInteractive(key) {\n",
              "        const element = document.querySelector('#df-a3c78852-2ce4-41ce-9277-91e4354416a7');\n",
              "        const dataTable =\n",
              "          await google.colab.kernel.invokeFunction('convertToInteractive',\n",
              "                                                    [key], {});\n",
              "        if (!dataTable) return;\n",
              "\n",
              "        const docLinkHtml = 'Like what you see? Visit the ' +\n",
              "          '<a target=\"_blank\" href=https://colab.research.google.com/notebooks/data_table.ipynb>data table notebook</a>'\n",
              "          + ' to learn more about interactive tables.';\n",
              "        element.innerHTML = '';\n",
              "        dataTable['output_type'] = 'display_data';\n",
              "        await google.colab.output.renderOutput(dataTable, element);\n",
              "        const docLink = document.createElement('div');\n",
              "        docLink.innerHTML = docLinkHtml;\n",
              "        element.appendChild(docLink);\n",
              "      }\n",
              "    </script>\n",
              "  </div>\n",
              "\n",
              "\n",
              "<div id=\"df-2cd9a24d-b05a-4324-b01c-37593ada13c3\">\n",
              "  <button class=\"colab-df-quickchart\" onclick=\"quickchart('df-2cd9a24d-b05a-4324-b01c-37593ada13c3')\"\n",
              "            title=\"Suggest charts.\"\n",
              "            style=\"display:none;\">\n",
              "\n",
              "<svg xmlns=\"http://www.w3.org/2000/svg\" height=\"24px\"viewBox=\"0 0 24 24\"\n",
              "     width=\"24px\">\n",
              "    <g>\n",
              "        <path d=\"M19 3H5c-1.1 0-2 .9-2 2v14c0 1.1.9 2 2 2h14c1.1 0 2-.9 2-2V5c0-1.1-.9-2-2-2zM9 17H7v-7h2v7zm4 0h-2V7h2v10zm4 0h-2v-4h2v4z\"/>\n",
              "    </g>\n",
              "</svg>\n",
              "  </button>\n",
              "\n",
              "<style>\n",
              "  .colab-df-quickchart {\n",
              "      --bg-color: #E8F0FE;\n",
              "      --fill-color: #1967D2;\n",
              "      --hover-bg-color: #E2EBFA;\n",
              "      --hover-fill-color: #174EA6;\n",
              "      --disabled-fill-color: #AAA;\n",
              "      --disabled-bg-color: #DDD;\n",
              "  }\n",
              "\n",
              "  [theme=dark] .colab-df-quickchart {\n",
              "      --bg-color: #3B4455;\n",
              "      --fill-color: #D2E3FC;\n",
              "      --hover-bg-color: #434B5C;\n",
              "      --hover-fill-color: #FFFFFF;\n",
              "      --disabled-bg-color: #3B4455;\n",
              "      --disabled-fill-color: #666;\n",
              "  }\n",
              "\n",
              "  .colab-df-quickchart {\n",
              "    background-color: var(--bg-color);\n",
              "    border: none;\n",
              "    border-radius: 50%;\n",
              "    cursor: pointer;\n",
              "    display: none;\n",
              "    fill: var(--fill-color);\n",
              "    height: 32px;\n",
              "    padding: 0;\n",
              "    width: 32px;\n",
              "  }\n",
              "\n",
              "  .colab-df-quickchart:hover {\n",
              "    background-color: var(--hover-bg-color);\n",
              "    box-shadow: 0 1px 2px rgba(60, 64, 67, 0.3), 0 1px 3px 1px rgba(60, 64, 67, 0.15);\n",
              "    fill: var(--button-hover-fill-color);\n",
              "  }\n",
              "\n",
              "  .colab-df-quickchart-complete:disabled,\n",
              "  .colab-df-quickchart-complete:disabled:hover {\n",
              "    background-color: var(--disabled-bg-color);\n",
              "    fill: var(--disabled-fill-color);\n",
              "    box-shadow: none;\n",
              "  }\n",
              "\n",
              "  .colab-df-spinner {\n",
              "    border: 2px solid var(--fill-color);\n",
              "    border-color: transparent;\n",
              "    border-bottom-color: var(--fill-color);\n",
              "    animation:\n",
              "      spin 1s steps(1) infinite;\n",
              "  }\n",
              "\n",
              "  @keyframes spin {\n",
              "    0% {\n",
              "      border-color: transparent;\n",
              "      border-bottom-color: var(--fill-color);\n",
              "      border-left-color: var(--fill-color);\n",
              "    }\n",
              "    20% {\n",
              "      border-color: transparent;\n",
              "      border-left-color: var(--fill-color);\n",
              "      border-top-color: var(--fill-color);\n",
              "    }\n",
              "    30% {\n",
              "      border-color: transparent;\n",
              "      border-left-color: var(--fill-color);\n",
              "      border-top-color: var(--fill-color);\n",
              "      border-right-color: var(--fill-color);\n",
              "    }\n",
              "    40% {\n",
              "      border-color: transparent;\n",
              "      border-right-color: var(--fill-color);\n",
              "      border-top-color: var(--fill-color);\n",
              "    }\n",
              "    60% {\n",
              "      border-color: transparent;\n",
              "      border-right-color: var(--fill-color);\n",
              "    }\n",
              "    80% {\n",
              "      border-color: transparent;\n",
              "      border-right-color: var(--fill-color);\n",
              "      border-bottom-color: var(--fill-color);\n",
              "    }\n",
              "    90% {\n",
              "      border-color: transparent;\n",
              "      border-bottom-color: var(--fill-color);\n",
              "    }\n",
              "  }\n",
              "</style>\n",
              "\n",
              "  <script>\n",
              "    async function quickchart(key) {\n",
              "      const quickchartButtonEl =\n",
              "        document.querySelector('#' + key + ' button');\n",
              "      quickchartButtonEl.disabled = true;  // To prevent multiple clicks.\n",
              "      quickchartButtonEl.classList.add('colab-df-spinner');\n",
              "      try {\n",
              "        const charts = await google.colab.kernel.invokeFunction(\n",
              "            'suggestCharts', [key], {});\n",
              "      } catch (error) {\n",
              "        console.error('Error during call to suggestCharts:', error);\n",
              "      }\n",
              "      quickchartButtonEl.classList.remove('colab-df-spinner');\n",
              "      quickchartButtonEl.classList.add('colab-df-quickchart-complete');\n",
              "    }\n",
              "    (() => {\n",
              "      let quickchartButtonEl =\n",
              "        document.querySelector('#df-2cd9a24d-b05a-4324-b01c-37593ada13c3 button');\n",
              "      quickchartButtonEl.style.display =\n",
              "        google.colab.kernel.accessAllowed ? 'block' : 'none';\n",
              "    })();\n",
              "  </script>\n",
              "</div>\n",
              "    </div>\n",
              "  </div>\n"
            ]
          },
          "metadata": {},
          "execution_count": 14
        }
      ]
    },
    {
      "cell_type": "code",
      "source": [
        "dataset[[\"sex\",\"smoker\"]]"
      ],
      "metadata": {
        "colab": {
          "base_uri": "https://localhost:8080/",
          "height": 423
        },
        "id": "Imz7xZWUhivk",
        "outputId": "e41c122d-c2d7-4155-b5fe-e613b57eb939"
      },
      "execution_count": null,
      "outputs": [
        {
          "output_type": "execute_result",
          "data": {
            "text/plain": [
              "        sex smoker\n",
              "0    Female     No\n",
              "1      Male     No\n",
              "2      Male     No\n",
              "3      Male     No\n",
              "4    Female     No\n",
              "..      ...    ...\n",
              "239    Male     No\n",
              "240  Female    Yes\n",
              "241    Male    Yes\n",
              "242    Male     No\n",
              "243  Female     No\n",
              "\n",
              "[244 rows x 2 columns]"
            ],
            "text/html": [
              "\n",
              "  <div id=\"df-c8b9ee15-a8e1-4dfb-bff1-833eb8473661\" class=\"colab-df-container\">\n",
              "    <div>\n",
              "<style scoped>\n",
              "    .dataframe tbody tr th:only-of-type {\n",
              "        vertical-align: middle;\n",
              "    }\n",
              "\n",
              "    .dataframe tbody tr th {\n",
              "        vertical-align: top;\n",
              "    }\n",
              "\n",
              "    .dataframe thead th {\n",
              "        text-align: right;\n",
              "    }\n",
              "</style>\n",
              "<table border=\"1\" class=\"dataframe\">\n",
              "  <thead>\n",
              "    <tr style=\"text-align: right;\">\n",
              "      <th></th>\n",
              "      <th>sex</th>\n",
              "      <th>smoker</th>\n",
              "    </tr>\n",
              "  </thead>\n",
              "  <tbody>\n",
              "    <tr>\n",
              "      <th>0</th>\n",
              "      <td>Female</td>\n",
              "      <td>No</td>\n",
              "    </tr>\n",
              "    <tr>\n",
              "      <th>1</th>\n",
              "      <td>Male</td>\n",
              "      <td>No</td>\n",
              "    </tr>\n",
              "    <tr>\n",
              "      <th>2</th>\n",
              "      <td>Male</td>\n",
              "      <td>No</td>\n",
              "    </tr>\n",
              "    <tr>\n",
              "      <th>3</th>\n",
              "      <td>Male</td>\n",
              "      <td>No</td>\n",
              "    </tr>\n",
              "    <tr>\n",
              "      <th>4</th>\n",
              "      <td>Female</td>\n",
              "      <td>No</td>\n",
              "    </tr>\n",
              "    <tr>\n",
              "      <th>...</th>\n",
              "      <td>...</td>\n",
              "      <td>...</td>\n",
              "    </tr>\n",
              "    <tr>\n",
              "      <th>239</th>\n",
              "      <td>Male</td>\n",
              "      <td>No</td>\n",
              "    </tr>\n",
              "    <tr>\n",
              "      <th>240</th>\n",
              "      <td>Female</td>\n",
              "      <td>Yes</td>\n",
              "    </tr>\n",
              "    <tr>\n",
              "      <th>241</th>\n",
              "      <td>Male</td>\n",
              "      <td>Yes</td>\n",
              "    </tr>\n",
              "    <tr>\n",
              "      <th>242</th>\n",
              "      <td>Male</td>\n",
              "      <td>No</td>\n",
              "    </tr>\n",
              "    <tr>\n",
              "      <th>243</th>\n",
              "      <td>Female</td>\n",
              "      <td>No</td>\n",
              "    </tr>\n",
              "  </tbody>\n",
              "</table>\n",
              "<p>244 rows × 2 columns</p>\n",
              "</div>\n",
              "    <div class=\"colab-df-buttons\">\n",
              "\n",
              "  <div class=\"colab-df-container\">\n",
              "    <button class=\"colab-df-convert\" onclick=\"convertToInteractive('df-c8b9ee15-a8e1-4dfb-bff1-833eb8473661')\"\n",
              "            title=\"Convert this dataframe to an interactive table.\"\n",
              "            style=\"display:none;\">\n",
              "\n",
              "  <svg xmlns=\"http://www.w3.org/2000/svg\" height=\"24px\" viewBox=\"0 -960 960 960\">\n",
              "    <path d=\"M120-120v-720h720v720H120Zm60-500h600v-160H180v160Zm220 220h160v-160H400v160Zm0 220h160v-160H400v160ZM180-400h160v-160H180v160Zm440 0h160v-160H620v160ZM180-180h160v-160H180v160Zm440 0h160v-160H620v160Z\"/>\n",
              "  </svg>\n",
              "    </button>\n",
              "\n",
              "  <style>\n",
              "    .colab-df-container {\n",
              "      display:flex;\n",
              "      gap: 12px;\n",
              "    }\n",
              "\n",
              "    .colab-df-convert {\n",
              "      background-color: #E8F0FE;\n",
              "      border: none;\n",
              "      border-radius: 50%;\n",
              "      cursor: pointer;\n",
              "      display: none;\n",
              "      fill: #1967D2;\n",
              "      height: 32px;\n",
              "      padding: 0 0 0 0;\n",
              "      width: 32px;\n",
              "    }\n",
              "\n",
              "    .colab-df-convert:hover {\n",
              "      background-color: #E2EBFA;\n",
              "      box-shadow: 0px 1px 2px rgba(60, 64, 67, 0.3), 0px 1px 3px 1px rgba(60, 64, 67, 0.15);\n",
              "      fill: #174EA6;\n",
              "    }\n",
              "\n",
              "    .colab-df-buttons div {\n",
              "      margin-bottom: 4px;\n",
              "    }\n",
              "\n",
              "    [theme=dark] .colab-df-convert {\n",
              "      background-color: #3B4455;\n",
              "      fill: #D2E3FC;\n",
              "    }\n",
              "\n",
              "    [theme=dark] .colab-df-convert:hover {\n",
              "      background-color: #434B5C;\n",
              "      box-shadow: 0px 1px 3px 1px rgba(0, 0, 0, 0.15);\n",
              "      filter: drop-shadow(0px 1px 2px rgba(0, 0, 0, 0.3));\n",
              "      fill: #FFFFFF;\n",
              "    }\n",
              "  </style>\n",
              "\n",
              "    <script>\n",
              "      const buttonEl =\n",
              "        document.querySelector('#df-c8b9ee15-a8e1-4dfb-bff1-833eb8473661 button.colab-df-convert');\n",
              "      buttonEl.style.display =\n",
              "        google.colab.kernel.accessAllowed ? 'block' : 'none';\n",
              "\n",
              "      async function convertToInteractive(key) {\n",
              "        const element = document.querySelector('#df-c8b9ee15-a8e1-4dfb-bff1-833eb8473661');\n",
              "        const dataTable =\n",
              "          await google.colab.kernel.invokeFunction('convertToInteractive',\n",
              "                                                    [key], {});\n",
              "        if (!dataTable) return;\n",
              "\n",
              "        const docLinkHtml = 'Like what you see? Visit the ' +\n",
              "          '<a target=\"_blank\" href=https://colab.research.google.com/notebooks/data_table.ipynb>data table notebook</a>'\n",
              "          + ' to learn more about interactive tables.';\n",
              "        element.innerHTML = '';\n",
              "        dataTable['output_type'] = 'display_data';\n",
              "        await google.colab.output.renderOutput(dataTable, element);\n",
              "        const docLink = document.createElement('div');\n",
              "        docLink.innerHTML = docLinkHtml;\n",
              "        element.appendChild(docLink);\n",
              "      }\n",
              "    </script>\n",
              "  </div>\n",
              "\n",
              "\n",
              "<div id=\"df-b1a09b35-3973-4634-b09e-1c8866b38fdf\">\n",
              "  <button class=\"colab-df-quickchart\" onclick=\"quickchart('df-b1a09b35-3973-4634-b09e-1c8866b38fdf')\"\n",
              "            title=\"Suggest charts.\"\n",
              "            style=\"display:none;\">\n",
              "\n",
              "<svg xmlns=\"http://www.w3.org/2000/svg\" height=\"24px\"viewBox=\"0 0 24 24\"\n",
              "     width=\"24px\">\n",
              "    <g>\n",
              "        <path d=\"M19 3H5c-1.1 0-2 .9-2 2v14c0 1.1.9 2 2 2h14c1.1 0 2-.9 2-2V5c0-1.1-.9-2-2-2zM9 17H7v-7h2v7zm4 0h-2V7h2v10zm4 0h-2v-4h2v4z\"/>\n",
              "    </g>\n",
              "</svg>\n",
              "  </button>\n",
              "\n",
              "<style>\n",
              "  .colab-df-quickchart {\n",
              "      --bg-color: #E8F0FE;\n",
              "      --fill-color: #1967D2;\n",
              "      --hover-bg-color: #E2EBFA;\n",
              "      --hover-fill-color: #174EA6;\n",
              "      --disabled-fill-color: #AAA;\n",
              "      --disabled-bg-color: #DDD;\n",
              "  }\n",
              "\n",
              "  [theme=dark] .colab-df-quickchart {\n",
              "      --bg-color: #3B4455;\n",
              "      --fill-color: #D2E3FC;\n",
              "      --hover-bg-color: #434B5C;\n",
              "      --hover-fill-color: #FFFFFF;\n",
              "      --disabled-bg-color: #3B4455;\n",
              "      --disabled-fill-color: #666;\n",
              "  }\n",
              "\n",
              "  .colab-df-quickchart {\n",
              "    background-color: var(--bg-color);\n",
              "    border: none;\n",
              "    border-radius: 50%;\n",
              "    cursor: pointer;\n",
              "    display: none;\n",
              "    fill: var(--fill-color);\n",
              "    height: 32px;\n",
              "    padding: 0;\n",
              "    width: 32px;\n",
              "  }\n",
              "\n",
              "  .colab-df-quickchart:hover {\n",
              "    background-color: var(--hover-bg-color);\n",
              "    box-shadow: 0 1px 2px rgba(60, 64, 67, 0.3), 0 1px 3px 1px rgba(60, 64, 67, 0.15);\n",
              "    fill: var(--button-hover-fill-color);\n",
              "  }\n",
              "\n",
              "  .colab-df-quickchart-complete:disabled,\n",
              "  .colab-df-quickchart-complete:disabled:hover {\n",
              "    background-color: var(--disabled-bg-color);\n",
              "    fill: var(--disabled-fill-color);\n",
              "    box-shadow: none;\n",
              "  }\n",
              "\n",
              "  .colab-df-spinner {\n",
              "    border: 2px solid var(--fill-color);\n",
              "    border-color: transparent;\n",
              "    border-bottom-color: var(--fill-color);\n",
              "    animation:\n",
              "      spin 1s steps(1) infinite;\n",
              "  }\n",
              "\n",
              "  @keyframes spin {\n",
              "    0% {\n",
              "      border-color: transparent;\n",
              "      border-bottom-color: var(--fill-color);\n",
              "      border-left-color: var(--fill-color);\n",
              "    }\n",
              "    20% {\n",
              "      border-color: transparent;\n",
              "      border-left-color: var(--fill-color);\n",
              "      border-top-color: var(--fill-color);\n",
              "    }\n",
              "    30% {\n",
              "      border-color: transparent;\n",
              "      border-left-color: var(--fill-color);\n",
              "      border-top-color: var(--fill-color);\n",
              "      border-right-color: var(--fill-color);\n",
              "    }\n",
              "    40% {\n",
              "      border-color: transparent;\n",
              "      border-right-color: var(--fill-color);\n",
              "      border-top-color: var(--fill-color);\n",
              "    }\n",
              "    60% {\n",
              "      border-color: transparent;\n",
              "      border-right-color: var(--fill-color);\n",
              "    }\n",
              "    80% {\n",
              "      border-color: transparent;\n",
              "      border-right-color: var(--fill-color);\n",
              "      border-bottom-color: var(--fill-color);\n",
              "    }\n",
              "    90% {\n",
              "      border-color: transparent;\n",
              "      border-bottom-color: var(--fill-color);\n",
              "    }\n",
              "  }\n",
              "</style>\n",
              "\n",
              "  <script>\n",
              "    async function quickchart(key) {\n",
              "      const quickchartButtonEl =\n",
              "        document.querySelector('#' + key + ' button');\n",
              "      quickchartButtonEl.disabled = true;  // To prevent multiple clicks.\n",
              "      quickchartButtonEl.classList.add('colab-df-spinner');\n",
              "      try {\n",
              "        const charts = await google.colab.kernel.invokeFunction(\n",
              "            'suggestCharts', [key], {});\n",
              "      } catch (error) {\n",
              "        console.error('Error during call to suggestCharts:', error);\n",
              "      }\n",
              "      quickchartButtonEl.classList.remove('colab-df-spinner');\n",
              "      quickchartButtonEl.classList.add('colab-df-quickchart-complete');\n",
              "    }\n",
              "    (() => {\n",
              "      let quickchartButtonEl =\n",
              "        document.querySelector('#df-b1a09b35-3973-4634-b09e-1c8866b38fdf button');\n",
              "      quickchartButtonEl.style.display =\n",
              "        google.colab.kernel.accessAllowed ? 'block' : 'none';\n",
              "    })();\n",
              "  </script>\n",
              "</div>\n",
              "    </div>\n",
              "  </div>\n"
            ]
          },
          "metadata": {},
          "execution_count": 15
        }
      ]
    },
    {
      "cell_type": "code",
      "source": [
        "import pandas as pd  # we are segreate the category with cross tab method\n",
        "data_table=pd.crosstab(dataset[\"sex\"],dataset[\"smoker\"])"
      ],
      "metadata": {
        "id": "H1kH5WpOhpT8"
      },
      "execution_count": null,
      "outputs": []
    },
    {
      "cell_type": "code",
      "source": [
        "data_table"
      ],
      "metadata": {
        "colab": {
          "base_uri": "https://localhost:8080/",
          "height": 143
        },
        "id": "IQTXoNzciQTw",
        "outputId": "f5b17c15-09f3-464e-87a5-e89754d7d706"
      },
      "execution_count": null,
      "outputs": [
        {
          "output_type": "execute_result",
          "data": {
            "text/plain": [
              "smoker  Yes  No\n",
              "sex            \n",
              "Male     60  97\n",
              "Female   33  54"
            ],
            "text/html": [
              "\n",
              "  <div id=\"df-e0ef627b-9849-434d-8f83-696b7a9d32d2\" class=\"colab-df-container\">\n",
              "    <div>\n",
              "<style scoped>\n",
              "    .dataframe tbody tr th:only-of-type {\n",
              "        vertical-align: middle;\n",
              "    }\n",
              "\n",
              "    .dataframe tbody tr th {\n",
              "        vertical-align: top;\n",
              "    }\n",
              "\n",
              "    .dataframe thead th {\n",
              "        text-align: right;\n",
              "    }\n",
              "</style>\n",
              "<table border=\"1\" class=\"dataframe\">\n",
              "  <thead>\n",
              "    <tr style=\"text-align: right;\">\n",
              "      <th>smoker</th>\n",
              "      <th>Yes</th>\n",
              "      <th>No</th>\n",
              "    </tr>\n",
              "    <tr>\n",
              "      <th>sex</th>\n",
              "      <th></th>\n",
              "      <th></th>\n",
              "    </tr>\n",
              "  </thead>\n",
              "  <tbody>\n",
              "    <tr>\n",
              "      <th>Male</th>\n",
              "      <td>60</td>\n",
              "      <td>97</td>\n",
              "    </tr>\n",
              "    <tr>\n",
              "      <th>Female</th>\n",
              "      <td>33</td>\n",
              "      <td>54</td>\n",
              "    </tr>\n",
              "  </tbody>\n",
              "</table>\n",
              "</div>\n",
              "    <div class=\"colab-df-buttons\">\n",
              "\n",
              "  <div class=\"colab-df-container\">\n",
              "    <button class=\"colab-df-convert\" onclick=\"convertToInteractive('df-e0ef627b-9849-434d-8f83-696b7a9d32d2')\"\n",
              "            title=\"Convert this dataframe to an interactive table.\"\n",
              "            style=\"display:none;\">\n",
              "\n",
              "  <svg xmlns=\"http://www.w3.org/2000/svg\" height=\"24px\" viewBox=\"0 -960 960 960\">\n",
              "    <path d=\"M120-120v-720h720v720H120Zm60-500h600v-160H180v160Zm220 220h160v-160H400v160Zm0 220h160v-160H400v160ZM180-400h160v-160H180v160Zm440 0h160v-160H620v160ZM180-180h160v-160H180v160Zm440 0h160v-160H620v160Z\"/>\n",
              "  </svg>\n",
              "    </button>\n",
              "\n",
              "  <style>\n",
              "    .colab-df-container {\n",
              "      display:flex;\n",
              "      gap: 12px;\n",
              "    }\n",
              "\n",
              "    .colab-df-convert {\n",
              "      background-color: #E8F0FE;\n",
              "      border: none;\n",
              "      border-radius: 50%;\n",
              "      cursor: pointer;\n",
              "      display: none;\n",
              "      fill: #1967D2;\n",
              "      height: 32px;\n",
              "      padding: 0 0 0 0;\n",
              "      width: 32px;\n",
              "    }\n",
              "\n",
              "    .colab-df-convert:hover {\n",
              "      background-color: #E2EBFA;\n",
              "      box-shadow: 0px 1px 2px rgba(60, 64, 67, 0.3), 0px 1px 3px 1px rgba(60, 64, 67, 0.15);\n",
              "      fill: #174EA6;\n",
              "    }\n",
              "\n",
              "    .colab-df-buttons div {\n",
              "      margin-bottom: 4px;\n",
              "    }\n",
              "\n",
              "    [theme=dark] .colab-df-convert {\n",
              "      background-color: #3B4455;\n",
              "      fill: #D2E3FC;\n",
              "    }\n",
              "\n",
              "    [theme=dark] .colab-df-convert:hover {\n",
              "      background-color: #434B5C;\n",
              "      box-shadow: 0px 1px 3px 1px rgba(0, 0, 0, 0.15);\n",
              "      filter: drop-shadow(0px 1px 2px rgba(0, 0, 0, 0.3));\n",
              "      fill: #FFFFFF;\n",
              "    }\n",
              "  </style>\n",
              "\n",
              "    <script>\n",
              "      const buttonEl =\n",
              "        document.querySelector('#df-e0ef627b-9849-434d-8f83-696b7a9d32d2 button.colab-df-convert');\n",
              "      buttonEl.style.display =\n",
              "        google.colab.kernel.accessAllowed ? 'block' : 'none';\n",
              "\n",
              "      async function convertToInteractive(key) {\n",
              "        const element = document.querySelector('#df-e0ef627b-9849-434d-8f83-696b7a9d32d2');\n",
              "        const dataTable =\n",
              "          await google.colab.kernel.invokeFunction('convertToInteractive',\n",
              "                                                    [key], {});\n",
              "        if (!dataTable) return;\n",
              "\n",
              "        const docLinkHtml = 'Like what you see? Visit the ' +\n",
              "          '<a target=\"_blank\" href=https://colab.research.google.com/notebooks/data_table.ipynb>data table notebook</a>'\n",
              "          + ' to learn more about interactive tables.';\n",
              "        element.innerHTML = '';\n",
              "        dataTable['output_type'] = 'display_data';\n",
              "        await google.colab.output.renderOutput(dataTable, element);\n",
              "        const docLink = document.createElement('div');\n",
              "        docLink.innerHTML = docLinkHtml;\n",
              "        element.appendChild(docLink);\n",
              "      }\n",
              "    </script>\n",
              "  </div>\n",
              "\n",
              "\n",
              "<div id=\"df-9b3f77a7-2ea9-4cb0-8a7d-3bc016169469\">\n",
              "  <button class=\"colab-df-quickchart\" onclick=\"quickchart('df-9b3f77a7-2ea9-4cb0-8a7d-3bc016169469')\"\n",
              "            title=\"Suggest charts.\"\n",
              "            style=\"display:none;\">\n",
              "\n",
              "<svg xmlns=\"http://www.w3.org/2000/svg\" height=\"24px\"viewBox=\"0 0 24 24\"\n",
              "     width=\"24px\">\n",
              "    <g>\n",
              "        <path d=\"M19 3H5c-1.1 0-2 .9-2 2v14c0 1.1.9 2 2 2h14c1.1 0 2-.9 2-2V5c0-1.1-.9-2-2-2zM9 17H7v-7h2v7zm4 0h-2V7h2v10zm4 0h-2v-4h2v4z\"/>\n",
              "    </g>\n",
              "</svg>\n",
              "  </button>\n",
              "\n",
              "<style>\n",
              "  .colab-df-quickchart {\n",
              "      --bg-color: #E8F0FE;\n",
              "      --fill-color: #1967D2;\n",
              "      --hover-bg-color: #E2EBFA;\n",
              "      --hover-fill-color: #174EA6;\n",
              "      --disabled-fill-color: #AAA;\n",
              "      --disabled-bg-color: #DDD;\n",
              "  }\n",
              "\n",
              "  [theme=dark] .colab-df-quickchart {\n",
              "      --bg-color: #3B4455;\n",
              "      --fill-color: #D2E3FC;\n",
              "      --hover-bg-color: #434B5C;\n",
              "      --hover-fill-color: #FFFFFF;\n",
              "      --disabled-bg-color: #3B4455;\n",
              "      --disabled-fill-color: #666;\n",
              "  }\n",
              "\n",
              "  .colab-df-quickchart {\n",
              "    background-color: var(--bg-color);\n",
              "    border: none;\n",
              "    border-radius: 50%;\n",
              "    cursor: pointer;\n",
              "    display: none;\n",
              "    fill: var(--fill-color);\n",
              "    height: 32px;\n",
              "    padding: 0;\n",
              "    width: 32px;\n",
              "  }\n",
              "\n",
              "  .colab-df-quickchart:hover {\n",
              "    background-color: var(--hover-bg-color);\n",
              "    box-shadow: 0 1px 2px rgba(60, 64, 67, 0.3), 0 1px 3px 1px rgba(60, 64, 67, 0.15);\n",
              "    fill: var(--button-hover-fill-color);\n",
              "  }\n",
              "\n",
              "  .colab-df-quickchart-complete:disabled,\n",
              "  .colab-df-quickchart-complete:disabled:hover {\n",
              "    background-color: var(--disabled-bg-color);\n",
              "    fill: var(--disabled-fill-color);\n",
              "    box-shadow: none;\n",
              "  }\n",
              "\n",
              "  .colab-df-spinner {\n",
              "    border: 2px solid var(--fill-color);\n",
              "    border-color: transparent;\n",
              "    border-bottom-color: var(--fill-color);\n",
              "    animation:\n",
              "      spin 1s steps(1) infinite;\n",
              "  }\n",
              "\n",
              "  @keyframes spin {\n",
              "    0% {\n",
              "      border-color: transparent;\n",
              "      border-bottom-color: var(--fill-color);\n",
              "      border-left-color: var(--fill-color);\n",
              "    }\n",
              "    20% {\n",
              "      border-color: transparent;\n",
              "      border-left-color: var(--fill-color);\n",
              "      border-top-color: var(--fill-color);\n",
              "    }\n",
              "    30% {\n",
              "      border-color: transparent;\n",
              "      border-left-color: var(--fill-color);\n",
              "      border-top-color: var(--fill-color);\n",
              "      border-right-color: var(--fill-color);\n",
              "    }\n",
              "    40% {\n",
              "      border-color: transparent;\n",
              "      border-right-color: var(--fill-color);\n",
              "      border-top-color: var(--fill-color);\n",
              "    }\n",
              "    60% {\n",
              "      border-color: transparent;\n",
              "      border-right-color: var(--fill-color);\n",
              "    }\n",
              "    80% {\n",
              "      border-color: transparent;\n",
              "      border-right-color: var(--fill-color);\n",
              "      border-bottom-color: var(--fill-color);\n",
              "    }\n",
              "    90% {\n",
              "      border-color: transparent;\n",
              "      border-bottom-color: var(--fill-color);\n",
              "    }\n",
              "  }\n",
              "</style>\n",
              "\n",
              "  <script>\n",
              "    async function quickchart(key) {\n",
              "      const quickchartButtonEl =\n",
              "        document.querySelector('#' + key + ' button');\n",
              "      quickchartButtonEl.disabled = true;  // To prevent multiple clicks.\n",
              "      quickchartButtonEl.classList.add('colab-df-spinner');\n",
              "      try {\n",
              "        const charts = await google.colab.kernel.invokeFunction(\n",
              "            'suggestCharts', [key], {});\n",
              "      } catch (error) {\n",
              "        console.error('Error during call to suggestCharts:', error);\n",
              "      }\n",
              "      quickchartButtonEl.classList.remove('colab-df-spinner');\n",
              "      quickchartButtonEl.classList.add('colab-df-quickchart-complete');\n",
              "    }\n",
              "    (() => {\n",
              "      let quickchartButtonEl =\n",
              "        document.querySelector('#df-9b3f77a7-2ea9-4cb0-8a7d-3bc016169469 button');\n",
              "      quickchartButtonEl.style.display =\n",
              "        google.colab.kernel.accessAllowed ? 'block' : 'none';\n",
              "    })();\n",
              "  </script>\n",
              "</div>\n",
              "    </div>\n",
              "  </div>\n"
            ]
          },
          "metadata": {},
          "execution_count": 17
        }
      ]
    },
    {
      "cell_type": "code",
      "source": [
        "\n",
        "\n",
        "data_table.values"
      ],
      "metadata": {
        "colab": {
          "base_uri": "https://localhost:8080/"
        },
        "id": "QsUoLnFoh0h-",
        "outputId": "8f7812a2-a00d-4e34-d68b-c81a32af648b"
      },
      "execution_count": null,
      "outputs": [
        {
          "output_type": "execute_result",
          "data": {
            "text/plain": [
              "array([[60, 97],\n",
              "       [33, 54]])"
            ]
          },
          "metadata": {},
          "execution_count": 18
        }
      ]
    },
    {
      "cell_type": "code",
      "source": [
        "observed_value=data_table.values"
      ],
      "metadata": {
        "id": "GSY55UIviZy_"
      },
      "execution_count": null,
      "outputs": []
    },
    {
      "cell_type": "code",
      "source": [
        "observed_value   # observed values"
      ],
      "metadata": {
        "colab": {
          "base_uri": "https://localhost:8080/"
        },
        "id": "o0xULAevieaQ",
        "outputId": "479ce5b4-b8ab-4a9d-c6f2-59bc7cf6e6cf"
      },
      "execution_count": null,
      "outputs": [
        {
          "output_type": "execute_result",
          "data": {
            "text/plain": [
              "array([[60, 97],\n",
              "       [33, 54]])"
            ]
          },
          "metadata": {},
          "execution_count": 22
        }
      ]
    },
    {
      "cell_type": "code",
      "source": [
        "import scipy.stats as stats\n",
        "stats.chi2_contingency(observed_value)  # expected values"
      ],
      "metadata": {
        "colab": {
          "base_uri": "https://localhost:8080/"
        },
        "id": "faTsol6XihXa",
        "outputId": "6c6c4224-bf9f-4830-f8b6-d4c1e6049673"
      },
      "execution_count": null,
      "outputs": [
        {
          "output_type": "execute_result",
          "data": {
            "text/plain": [
              "Chi2ContingencyResult(statistic=0.0, pvalue=1.0, dof=1, expected_freq=array([[59.84016393, 97.15983607],\n",
              "       [33.15983607, 53.84016393]]))"
            ]
          },
          "metadata": {},
          "execution_count": 24
        }
      ]
    },
    {
      "cell_type": "code",
      "source": [
        "stats_test,p,dof,expected_value=stats.chi2_contingency(observed_value)\n"
      ],
      "metadata": {
        "id": "9rAQ6BORi44t"
      },
      "execution_count": null,
      "outputs": []
    },
    {
      "cell_type": "code",
      "source": [
        "expected_value"
      ],
      "metadata": {
        "colab": {
          "base_uri": "https://localhost:8080/"
        },
        "id": "1imlk3NMiutj",
        "outputId": "17265d0b-18cc-402c-9ba6-d31a34819ac4"
      },
      "execution_count": null,
      "outputs": [
        {
          "output_type": "execute_result",
          "data": {
            "text/plain": [
              "array([[59.84016393, 97.15983607],\n",
              "       [33.15983607, 53.84016393]])"
            ]
          },
          "metadata": {},
          "execution_count": 26
        }
      ]
    },
    {
      "cell_type": "code",
      "source": [
        "# degree of freedom\n",
        "# (num of col-1)* (num 0f rows -1)\n"
      ],
      "metadata": {
        "id": "-kS-qHxnjkph"
      },
      "execution_count": null,
      "outputs": []
    },
    {
      "cell_type": "code",
      "source": [
        "col=data_table.iloc[0:2,0]"
      ],
      "metadata": {
        "id": "JZY26BZKj_o9"
      },
      "execution_count": null,
      "outputs": []
    },
    {
      "cell_type": "code",
      "source": [
        "row=data_table.iloc[0,0:2]"
      ],
      "metadata": {
        "id": "TyeUi_p5kKlF"
      },
      "execution_count": null,
      "outputs": []
    },
    {
      "cell_type": "code",
      "source": [
        "len(col)"
      ],
      "metadata": {
        "id": "1phda6RokQ1r",
        "colab": {
          "base_uri": "https://localhost:8080/"
        },
        "outputId": "66fe8b80-be54-47e3-fba0-10d0a764ac4d"
      },
      "execution_count": null,
      "outputs": [
        {
          "output_type": "execute_result",
          "data": {
            "text/plain": [
              "2"
            ]
          },
          "metadata": {},
          "execution_count": 30
        }
      ]
    },
    {
      "cell_type": "code",
      "source": [
        "len(row)"
      ],
      "metadata": {
        "id": "nAiAokwjnqB4",
        "colab": {
          "base_uri": "https://localhost:8080/"
        },
        "outputId": "4ecac1ed-2ff3-4483-d657-e05fc532c853"
      },
      "execution_count": null,
      "outputs": [
        {
          "output_type": "execute_result",
          "data": {
            "text/plain": [
              "2"
            ]
          },
          "metadata": {},
          "execution_count": 31
        }
      ]
    },
    {
      "cell_type": "code",
      "source": [
        "dof=(len(col)-1)*(len(row)-1)"
      ],
      "metadata": {
        "id": "28jC2WgTnrJa"
      },
      "execution_count": null,
      "outputs": []
    },
    {
      "cell_type": "code",
      "source": [
        "dof"
      ],
      "metadata": {
        "id": "1NBHGCCcnz62",
        "colab": {
          "base_uri": "https://localhost:8080/"
        },
        "outputId": "015d89c6-8c02-4678-b29f-42684d299d3f"
      },
      "execution_count": null,
      "outputs": [
        {
          "output_type": "execute_result",
          "data": {
            "text/plain": [
              "1"
            ]
          },
          "metadata": {},
          "execution_count": 33
        }
      ]
    },
    {
      "cell_type": "code",
      "source": [],
      "metadata": {
        "id": "KLlhiAOwpd5l"
      },
      "execution_count": null,
      "outputs": []
    },
    {
      "cell_type": "code",
      "source": [
        "#chi-sqaure=x2=(o-e)2/E\n"
      ],
      "metadata": {
        "id": "FF4am0Spn7zX"
      },
      "execution_count": null,
      "outputs": []
    },
    {
      "cell_type": "code",
      "source": [
        "for o,e in zip(observed_value,expected_value):\n",
        "        print(o,e)"
      ],
      "metadata": {
        "colab": {
          "base_uri": "https://localhost:8080/"
        },
        "id": "pL_XHvrmqWSn",
        "outputId": "3e1c5a62-4647-4e23-8d1b-a6f2e93fdc5a"
      },
      "execution_count": null,
      "outputs": [
        {
          "output_type": "stream",
          "name": "stdout",
          "text": [
            "[60 97] [59.84016393 97.15983607]\n",
            "[33 54] [33.15983607 53.84016393]\n"
          ]
        }
      ]
    },
    {
      "cell_type": "code",
      "source": [
        "from scipy.stats import chi2\n",
        "chisqure=sum([(o-e)**2/e for o,e in zip(observed_value,expected_value)])"
      ],
      "metadata": {
        "id": "mUKPkIHaoofx"
      },
      "execution_count": null,
      "outputs": []
    },
    {
      "cell_type": "code",
      "source": [
        "chisqure"
      ],
      "metadata": {
        "colab": {
          "base_uri": "https://localhost:8080/"
        },
        "id": "0L33ukfZpP0K",
        "outputId": "9c1c6a16-0903-4768-e7d1-54f9ae47674e"
      },
      "execution_count": null,
      "outputs": [
        {
          "output_type": "execute_result",
          "data": {
            "text/plain": [
              "array([0.00119737, 0.00073745])"
            ]
          },
          "metadata": {},
          "execution_count": 41
        }
      ]
    },
    {
      "cell_type": "code",
      "source": [
        "chisqurestats=chisqure[0]+chisqure[1]"
      ],
      "metadata": {
        "id": "aYi1fF4JrB9J"
      },
      "execution_count": null,
      "outputs": []
    },
    {
      "cell_type": "code",
      "source": [
        "chisqurestats"
      ],
      "metadata": {
        "colab": {
          "base_uri": "https://localhost:8080/"
        },
        "id": "uP52rQvDrJYB",
        "outputId": "bf96f7fb-e289-4bec-9f28-6ce74dff67aa"
      },
      "execution_count": null,
      "outputs": [
        {
          "output_type": "execute_result",
          "data": {
            "text/plain": [
              "0.001934818536627623"
            ]
          },
          "metadata": {},
          "execution_count": 45
        }
      ]
    },
    {
      "cell_type": "code",
      "source": [
        "# our assumption\n",
        "alpha=0.05\n",
        "CI=0.95"
      ],
      "metadata": {
        "id": "0YwVtyvmqmZJ"
      },
      "execution_count": null,
      "outputs": []
    },
    {
      "cell_type": "code",
      "source": [
        "critical_value=chi2.ppf(CI,df=dof)"
      ],
      "metadata": {
        "id": "JCUOLqjZq3bZ"
      },
      "execution_count": null,
      "outputs": []
    },
    {
      "cell_type": "code",
      "source": [
        "critical_value"
      ],
      "metadata": {
        "colab": {
          "base_uri": "https://localhost:8080/"
        },
        "id": "Fllfkyfqq_Wv",
        "outputId": "26b8e7aa-f051-4fdc-99b0-2d5ba211302c"
      },
      "execution_count": null,
      "outputs": [
        {
          "output_type": "execute_result",
          "data": {
            "text/plain": [
              "3.841458820694124"
            ]
          },
          "metadata": {},
          "execution_count": 47
        }
      ]
    },
    {
      "cell_type": "code",
      "source": [
        "if chisqurestats>=critical_value:\n",
        "    print(\" reject the null hyphothesis, there is a relatiuonship between two categorical variable\")\n",
        "else:\n",
        "    print(\"accept the null hyphothesis there is no relation between two categorical variable\")"
      ],
      "metadata": {
        "colab": {
          "base_uri": "https://localhost:8080/"
        },
        "id": "omzrLjf9rQjP",
        "outputId": "b26c526e-1379-4fda-943a-842f7e918eb3"
      },
      "execution_count": null,
      "outputs": [
        {
          "output_type": "stream",
          "name": "stdout",
          "text": [
            "accept the null hyphothesis there is no relation between two categorical variable\n"
          ]
        }
      ]
    },
    {
      "cell_type": "code",
      "source": [],
      "metadata": {
        "id": "1gsUn3ForWkg"
      },
      "execution_count": null,
      "outputs": []
    }
  ]
}